{
  "nbformat": 4,
  "nbformat_minor": 0,
  "metadata": {
    "accelerator": "GPU",
    "colab": {
      "name": "Covid prediction.ipynb",
      "provenance": [],
      "collapsed_sections": [],
      "include_colab_link": true
    },
    "kernelspec": {
      "display_name": "Python 3",
      "name": "python3"
    },
    "language_info": {
      "name": "python"
    }
  },
  "cells": [
    {
      "cell_type": "markdown",
      "metadata": {
        "id": "view-in-github",
        "colab_type": "text"
      },
      "source": [
        "<a href=\"https://colab.research.google.com/github/tohsin/Covid19_prediction_from_xray_scans/blob/main/Covid_prediction.ipynb\" target=\"_parent\"><img src=\"https://colab.research.google.com/assets/colab-badge.svg\" alt=\"Open In Colab\"/></a>"
      ]
    },
    {
      "cell_type": "code",
      "metadata": {
        "id": "Xa27m4UT1Tzb"
      },
      "source": [
        "!cp /content/drive/MyDrive/covid_cxr/csc532.zip /content "
      ],
      "execution_count": null,
      "outputs": []
    },
    {
      "cell_type": "code",
      "metadata": {
        "id": "GsvcF3h_10F0",
        "colab": {
          "base_uri": "https://localhost:8080/"
        },
        "outputId": "899d2085-4314-4e64-d863-ef0181c8edf3"
      },
      "source": [
        "!unzip /content/csc532.zip"
      ],
      "execution_count": null,
      "outputs": [
        {
          "output_type": "stream",
          "text": [
            "Archive:  /content/csc532.zip\n",
            "  inflating: DLAI3_CXR_Validation_Set/DLAI3_Val_Set1 (1).jpg  \n",
            "  inflating: DLAI3_CXR_Validation_Set/DLAI3_Val_Set1 (10).jpg  \n",
            "  inflating: DLAI3_CXR_Validation_Set/DLAI3_Val_Set1 (100).jpg  \n",
            "  inflating: DLAI3_CXR_Validation_Set/DLAI3_Val_Set1 (101).jpg  \n",
            "  inflating: DLAI3_CXR_Validation_Set/DLAI3_Val_Set1 (102).jpg  \n",
            "  inflating: DLAI3_CXR_Validation_Set/DLAI3_Val_Set1 (103).jpg  \n",
            "  inflating: DLAI3_CXR_Validation_Set/DLAI3_Val_Set1 (104).jpg  \n",
            "  inflating: DLAI3_CXR_Validation_Set/DLAI3_Val_Set1 (105).jpg  \n",
            "  inflating: DLAI3_CXR_Validation_Set/DLAI3_Val_Set1 (106).jpg  \n",
            "  inflating: DLAI3_CXR_Validation_Set/DLAI3_Val_Set1 (107).jpg  \n",
            "  inflating: DLAI3_CXR_Validation_Set/DLAI3_Val_Set1 (108).jpg  \n",
            "  inflating: DLAI3_CXR_Validation_Set/DLAI3_Val_Set1 (109).jpg  \n",
            "  inflating: DLAI3_CXR_Validation_Set/DLAI3_Val_Set1 (11).jpg  \n",
            "  inflating: DLAI3_CXR_Validation_Set/DLAI3_Val_Set1 (110).jpg  \n",
            "  inflating: DLAI3_CXR_Validation_Set/DLAI3_Val_Set1 (111).jpg  \n",
            "  inflating: DLAI3_CXR_Validation_Set/DLAI3_Val_Set1 (112).jpg  \n",
            "  inflating: DLAI3_CXR_Validation_Set/DLAI3_Val_Set1 (113).jpg  \n",
            "  inflating: DLAI3_CXR_Validation_Set/DLAI3_Val_Set1 (114).jpg  \n",
            "  inflating: DLAI3_CXR_Validation_Set/DLAI3_Val_Set1 (115).jpg  \n",
            "  inflating: DLAI3_CXR_Validation_Set/DLAI3_Val_Set1 (116).jpg  \n",
            "  inflating: DLAI3_CXR_Validation_Set/DLAI3_Val_Set1 (117).jpg  \n",
            "  inflating: DLAI3_CXR_Validation_Set/DLAI3_Val_Set1 (118).jpg  \n",
            "  inflating: DLAI3_CXR_Validation_Set/DLAI3_Val_Set1 (119).jpg  \n",
            "  inflating: DLAI3_CXR_Validation_Set/DLAI3_Val_Set1 (12).jpg  \n",
            "  inflating: DLAI3_CXR_Validation_Set/DLAI3_Val_Set1 (120).jpg  \n",
            "  inflating: DLAI3_CXR_Validation_Set/DLAI3_Val_Set1 (121).jpg  \n",
            "  inflating: DLAI3_CXR_Validation_Set/DLAI3_Val_Set1 (122).jpg  \n",
            "  inflating: DLAI3_CXR_Validation_Set/DLAI3_Val_Set1 (123).jpg  \n",
            "  inflating: DLAI3_CXR_Validation_Set/DLAI3_Val_Set1 (124).jpg  \n",
            "  inflating: DLAI3_CXR_Validation_Set/DLAI3_Val_Set1 (125).jpg  \n",
            "  inflating: DLAI3_CXR_Validation_Set/DLAI3_Val_Set1 (126).jpg  \n",
            "  inflating: DLAI3_CXR_Validation_Set/DLAI3_Val_Set1 (127).jpg  \n",
            "  inflating: DLAI3_CXR_Validation_Set/DLAI3_Val_Set1 (128).jpg  \n",
            "  inflating: DLAI3_CXR_Validation_Set/DLAI3_Val_Set1 (129).jpg  \n",
            "  inflating: DLAI3_CXR_Validation_Set/DLAI3_Val_Set1 (13).jpg  \n",
            "  inflating: DLAI3_CXR_Validation_Set/DLAI3_Val_Set1 (130).jpg  \n",
            "  inflating: DLAI3_CXR_Validation_Set/DLAI3_Val_Set1 (131).jpg  \n",
            "  inflating: DLAI3_CXR_Validation_Set/DLAI3_Val_Set1 (132).jpg  \n",
            "  inflating: DLAI3_CXR_Validation_Set/DLAI3_Val_Set1 (133).jpg  \n",
            "  inflating: DLAI3_CXR_Validation_Set/DLAI3_Val_Set1 (134).jpg  \n",
            "  inflating: DLAI3_CXR_Validation_Set/DLAI3_Val_Set1 (135).jpg  \n",
            "  inflating: DLAI3_CXR_Validation_Set/DLAI3_Val_Set1 (136).jpg  \n",
            "  inflating: DLAI3_CXR_Validation_Set/DLAI3_Val_Set1 (137).jpg  \n",
            "  inflating: DLAI3_CXR_Validation_Set/DLAI3_Val_Set1 (138).jpg  \n",
            "  inflating: DLAI3_CXR_Validation_Set/DLAI3_Val_Set1 (139).jpg  \n",
            "  inflating: DLAI3_CXR_Validation_Set/DLAI3_Val_Set1 (14).jpg  \n",
            "  inflating: DLAI3_CXR_Validation_Set/DLAI3_Val_Set1 (140).jpg  \n",
            "  inflating: DLAI3_CXR_Validation_Set/DLAI3_Val_Set1 (141).jpg  \n",
            "  inflating: DLAI3_CXR_Validation_Set/DLAI3_Val_Set1 (142).jpg  \n",
            "  inflating: DLAI3_CXR_Validation_Set/DLAI3_Val_Set1 (143).jpg  \n",
            "  inflating: DLAI3_CXR_Validation_Set/DLAI3_Val_Set1 (144).jpg  \n",
            "  inflating: DLAI3_CXR_Validation_Set/DLAI3_Val_Set1 (145).jpg  \n",
            "  inflating: DLAI3_CXR_Validation_Set/DLAI3_Val_Set1 (146).jpg  \n",
            "  inflating: DLAI3_CXR_Validation_Set/DLAI3_Val_Set1 (147).jpg  \n",
            "  inflating: DLAI3_CXR_Validation_Set/DLAI3_Val_Set1 (148).jpg  \n",
            "  inflating: DLAI3_CXR_Validation_Set/DLAI3_Val_Set1 (149).jpg  \n",
            "  inflating: DLAI3_CXR_Validation_Set/DLAI3_Val_Set1 (15).jpg  \n",
            "  inflating: DLAI3_CXR_Validation_Set/DLAI3_Val_Set1 (150).jpg  \n",
            "  inflating: DLAI3_CXR_Validation_Set/DLAI3_Val_Set1 (151).jpg  \n",
            "  inflating: DLAI3_CXR_Validation_Set/DLAI3_Val_Set1 (152).jpg  \n",
            "  inflating: DLAI3_CXR_Validation_Set/DLAI3_Val_Set1 (153).jpg  \n",
            "  inflating: DLAI3_CXR_Validation_Set/DLAI3_Val_Set1 (154).jpg  \n",
            "  inflating: DLAI3_CXR_Validation_Set/DLAI3_Val_Set1 (155).jpg  \n",
            "  inflating: DLAI3_CXR_Validation_Set/DLAI3_Val_Set1 (156).jpg  \n",
            "  inflating: DLAI3_CXR_Validation_Set/DLAI3_Val_Set1 (157).jpg  \n",
            "  inflating: DLAI3_CXR_Validation_Set/DLAI3_Val_Set1 (158).jpg  \n",
            "  inflating: DLAI3_CXR_Validation_Set/DLAI3_Val_Set1 (159).jpg  \n",
            "  inflating: DLAI3_CXR_Validation_Set/DLAI3_Val_Set1 (16).jpg  \n",
            "  inflating: DLAI3_CXR_Validation_Set/DLAI3_Val_Set1 (160).jpg  \n",
            "  inflating: DLAI3_CXR_Validation_Set/DLAI3_Val_Set1 (161).jpg  \n",
            "  inflating: DLAI3_CXR_Validation_Set/DLAI3_Val_Set1 (162).jpg  \n",
            "  inflating: DLAI3_CXR_Validation_Set/DLAI3_Val_Set1 (163).jpg  \n",
            "  inflating: DLAI3_CXR_Validation_Set/DLAI3_Val_Set1 (164).jpg  \n",
            "  inflating: DLAI3_CXR_Validation_Set/DLAI3_Val_Set1 (165).jpg  \n",
            "  inflating: DLAI3_CXR_Validation_Set/DLAI3_Val_Set1 (166).jpg  \n",
            "  inflating: DLAI3_CXR_Validation_Set/DLAI3_Val_Set1 (167).jpg  \n",
            "  inflating: DLAI3_CXR_Validation_Set/DLAI3_Val_Set1 (168).jpg  \n",
            "  inflating: DLAI3_CXR_Validation_Set/DLAI3_Val_Set1 (169).jpg  \n",
            "  inflating: DLAI3_CXR_Validation_Set/DLAI3_Val_Set1 (17).jpg  \n",
            "  inflating: DLAI3_CXR_Validation_Set/DLAI3_Val_Set1 (170).jpg  \n",
            "  inflating: DLAI3_CXR_Validation_Set/DLAI3_Val_Set1 (171).jpg  \n",
            "  inflating: DLAI3_CXR_Validation_Set/DLAI3_Val_Set1 (172).jpg  \n",
            "  inflating: DLAI3_CXR_Validation_Set/DLAI3_Val_Set1 (173).jpg  \n",
            "  inflating: DLAI3_CXR_Validation_Set/DLAI3_Val_Set1 (174).jpg  \n",
            "  inflating: DLAI3_CXR_Validation_Set/DLAI3_Val_Set1 (175).jpg  \n",
            "  inflating: DLAI3_CXR_Validation_Set/DLAI3_Val_Set1 (176).jpg  \n",
            "  inflating: DLAI3_CXR_Validation_Set/DLAI3_Val_Set1 (177).jpg  \n",
            "  inflating: DLAI3_CXR_Validation_Set/DLAI3_Val_Set1 (178).jpg  \n",
            "  inflating: DLAI3_CXR_Validation_Set/DLAI3_Val_Set1 (179).jpg  \n",
            "  inflating: DLAI3_CXR_Validation_Set/DLAI3_Val_Set1 (18).jpg  \n",
            "  inflating: DLAI3_CXR_Validation_Set/DLAI3_Val_Set1 (180).jpg  \n",
            "  inflating: DLAI3_CXR_Validation_Set/DLAI3_Val_Set1 (181).jpg  \n",
            "  inflating: DLAI3_CXR_Validation_Set/DLAI3_Val_Set1 (182).jpg  \n",
            "  inflating: DLAI3_CXR_Validation_Set/DLAI3_Val_Set1 (183).jpg  \n",
            "  inflating: DLAI3_CXR_Validation_Set/DLAI3_Val_Set1 (184).jpg  \n",
            "  inflating: DLAI3_CXR_Validation_Set/DLAI3_Val_Set1 (185).jpg  \n",
            "  inflating: DLAI3_CXR_Validation_Set/DLAI3_Val_Set1 (186).jpg  \n",
            "  inflating: DLAI3_CXR_Validation_Set/DLAI3_Val_Set1 (187).jpg  \n",
            "  inflating: DLAI3_CXR_Validation_Set/DLAI3_Val_Set1 (188).jpg  \n",
            "  inflating: DLAI3_CXR_Validation_Set/DLAI3_Val_Set1 (189).jpg  \n",
            "  inflating: DLAI3_CXR_Validation_Set/DLAI3_Val_Set1 (19).jpg  \n",
            "  inflating: DLAI3_CXR_Validation_Set/DLAI3_Val_Set1 (190).jpg  \n",
            "  inflating: DLAI3_CXR_Validation_Set/DLAI3_Val_Set1 (191).jpg  \n",
            "  inflating: DLAI3_CXR_Validation_Set/DLAI3_Val_Set1 (192).jpg  \n",
            "  inflating: DLAI3_CXR_Validation_Set/DLAI3_Val_Set1 (193).jpg  \n",
            "  inflating: DLAI3_CXR_Validation_Set/DLAI3_Val_Set1 (194).jpg  \n",
            "  inflating: DLAI3_CXR_Validation_Set/DLAI3_Val_Set1 (195).jpg  \n",
            "  inflating: DLAI3_CXR_Validation_Set/DLAI3_Val_Set1 (196).jpg  \n",
            "  inflating: DLAI3_CXR_Validation_Set/DLAI3_Val_Set1 (197).jpg  \n",
            "  inflating: DLAI3_CXR_Validation_Set/DLAI3_Val_Set1 (198).jpg  \n",
            "  inflating: DLAI3_CXR_Validation_Set/DLAI3_Val_Set1 (199).jpg  \n",
            "  inflating: DLAI3_CXR_Validation_Set/DLAI3_Val_Set1 (2).jpg  \n",
            "  inflating: DLAI3_CXR_Validation_Set/DLAI3_Val_Set1 (20).jpg  \n",
            "  inflating: DLAI3_CXR_Validation_Set/DLAI3_Val_Set1 (200).jpg  \n",
            "  inflating: DLAI3_CXR_Validation_Set/DLAI3_Val_Set1 (201).jpg  \n",
            "  inflating: DLAI3_CXR_Validation_Set/DLAI3_Val_Set1 (202).jpg  \n",
            "  inflating: DLAI3_CXR_Validation_Set/DLAI3_Val_Set1 (203).jpg  \n",
            "  inflating: DLAI3_CXR_Validation_Set/DLAI3_Val_Set1 (204).jpg  \n",
            "  inflating: DLAI3_CXR_Validation_Set/DLAI3_Val_Set1 (205).jpg  \n",
            "  inflating: DLAI3_CXR_Validation_Set/DLAI3_Val_Set1 (206).jpg  \n",
            "  inflating: DLAI3_CXR_Validation_Set/DLAI3_Val_Set1 (207).jpg  \n",
            "  inflating: DLAI3_CXR_Validation_Set/DLAI3_Val_Set1 (208).jpg  \n",
            "  inflating: DLAI3_CXR_Validation_Set/DLAI3_Val_Set1 (209).jpg  \n",
            "  inflating: DLAI3_CXR_Validation_Set/DLAI3_Val_Set1 (21).jpg  \n",
            "  inflating: DLAI3_CXR_Validation_Set/DLAI3_Val_Set1 (210).jpg  \n",
            "  inflating: DLAI3_CXR_Validation_Set/DLAI3_Val_Set1 (211).jpg  \n",
            "  inflating: DLAI3_CXR_Validation_Set/DLAI3_Val_Set1 (212).jpg  \n",
            "  inflating: DLAI3_CXR_Validation_Set/DLAI3_Val_Set1 (213).jpg  \n",
            "  inflating: DLAI3_CXR_Validation_Set/DLAI3_Val_Set1 (214).jpg  \n",
            "  inflating: DLAI3_CXR_Validation_Set/DLAI3_Val_Set1 (215).jpg  \n",
            "  inflating: DLAI3_CXR_Validation_Set/DLAI3_Val_Set1 (216).jpg  \n",
            "  inflating: DLAI3_CXR_Validation_Set/DLAI3_Val_Set1 (217).jpg  \n",
            "  inflating: DLAI3_CXR_Validation_Set/DLAI3_Val_Set1 (218).jpg  \n",
            "  inflating: DLAI3_CXR_Validation_Set/DLAI3_Val_Set1 (219).jpg  \n",
            "  inflating: DLAI3_CXR_Validation_Set/DLAI3_Val_Set1 (22).jpg  \n",
            "  inflating: DLAI3_CXR_Validation_Set/DLAI3_Val_Set1 (220).jpg  \n",
            "  inflating: DLAI3_CXR_Validation_Set/DLAI3_Val_Set1 (221).jpg  \n",
            "  inflating: DLAI3_CXR_Validation_Set/DLAI3_Val_Set1 (222).jpg  \n",
            "  inflating: DLAI3_CXR_Validation_Set/DLAI3_Val_Set1 (223).jpg  \n",
            "  inflating: DLAI3_CXR_Validation_Set/DLAI3_Val_Set1 (224).jpg  \n",
            "  inflating: DLAI3_CXR_Validation_Set/DLAI3_Val_Set1 (225).jpg  \n",
            "  inflating: DLAI3_CXR_Validation_Set/DLAI3_Val_Set1 (226).jpg  \n",
            "  inflating: DLAI3_CXR_Validation_Set/DLAI3_Val_Set1 (227).jpg  \n",
            "  inflating: DLAI3_CXR_Validation_Set/DLAI3_Val_Set1 (228).jpg  \n",
            "  inflating: DLAI3_CXR_Validation_Set/DLAI3_Val_Set1 (229).jpg  \n",
            "  inflating: DLAI3_CXR_Validation_Set/DLAI3_Val_Set1 (23).jpg  \n",
            "  inflating: DLAI3_CXR_Validation_Set/DLAI3_Val_Set1 (230).jpg  \n",
            "  inflating: DLAI3_CXR_Validation_Set/DLAI3_Val_Set1 (231).jpg  \n",
            "  inflating: DLAI3_CXR_Validation_Set/DLAI3_Val_Set1 (232).jpg  \n",
            "  inflating: DLAI3_CXR_Validation_Set/DLAI3_Val_Set1 (233).jpg  \n",
            "  inflating: DLAI3_CXR_Validation_Set/DLAI3_Val_Set1 (234).jpg  \n",
            "  inflating: DLAI3_CXR_Validation_Set/DLAI3_Val_Set1 (24).jpg  \n",
            "  inflating: DLAI3_CXR_Validation_Set/DLAI3_Val_Set1 (25).jpg  \n",
            "  inflating: DLAI3_CXR_Validation_Set/DLAI3_Val_Set1 (26).jpg  \n",
            "  inflating: DLAI3_CXR_Validation_Set/DLAI3_Val_Set1 (27).jpg  \n",
            "  inflating: DLAI3_CXR_Validation_Set/DLAI3_Val_Set1 (28).jpg  \n",
            "  inflating: DLAI3_CXR_Validation_Set/DLAI3_Val_Set1 (29).jpg  \n",
            "  inflating: DLAI3_CXR_Validation_Set/DLAI3_Val_Set1 (3).jpg  \n",
            "  inflating: DLAI3_CXR_Validation_Set/DLAI3_Val_Set1 (30).jpg  \n",
            "  inflating: DLAI3_CXR_Validation_Set/DLAI3_Val_Set1 (31).jpg  \n",
            "  inflating: DLAI3_CXR_Validation_Set/DLAI3_Val_Set1 (32).jpg  \n",
            "  inflating: DLAI3_CXR_Validation_Set/DLAI3_Val_Set1 (33).jpg  \n",
            "  inflating: DLAI3_CXR_Validation_Set/DLAI3_Val_Set1 (34).jpg  \n",
            "  inflating: DLAI3_CXR_Validation_Set/DLAI3_Val_Set1 (35).jpg  \n",
            "  inflating: DLAI3_CXR_Validation_Set/DLAI3_Val_Set1 (36).jpg  \n",
            "  inflating: DLAI3_CXR_Validation_Set/DLAI3_Val_Set1 (37).jpg  \n",
            "  inflating: DLAI3_CXR_Validation_Set/DLAI3_Val_Set1 (38).jpg  \n",
            "  inflating: DLAI3_CXR_Validation_Set/DLAI3_Val_Set1 (39).jpg  \n",
            "  inflating: DLAI3_CXR_Validation_Set/DLAI3_Val_Set1 (4).jpg  \n",
            "  inflating: DLAI3_CXR_Validation_Set/DLAI3_Val_Set1 (40).jpg  \n",
            "  inflating: DLAI3_CXR_Validation_Set/DLAI3_Val_Set1 (41).jpg  \n",
            "  inflating: DLAI3_CXR_Validation_Set/DLAI3_Val_Set1 (42).jpg  \n",
            "  inflating: DLAI3_CXR_Validation_Set/DLAI3_Val_Set1 (43).jpg  \n",
            "  inflating: DLAI3_CXR_Validation_Set/DLAI3_Val_Set1 (44).jpg  \n",
            "  inflating: DLAI3_CXR_Validation_Set/DLAI3_Val_Set1 (45).jpg  \n",
            "  inflating: DLAI3_CXR_Validation_Set/DLAI3_Val_Set1 (46).jpg  \n",
            "  inflating: DLAI3_CXR_Validation_Set/DLAI3_Val_Set1 (47).jpg  \n",
            "  inflating: DLAI3_CXR_Validation_Set/DLAI3_Val_Set1 (48).jpg  \n",
            "  inflating: DLAI3_CXR_Validation_Set/DLAI3_Val_Set1 (49).jpg  \n",
            "  inflating: DLAI3_CXR_Validation_Set/DLAI3_Val_Set1 (5).jpg  \n",
            "  inflating: DLAI3_CXR_Validation_Set/DLAI3_Val_Set1 (50).jpg  \n",
            "  inflating: DLAI3_CXR_Validation_Set/DLAI3_Val_Set1 (51).jpg  \n",
            "  inflating: DLAI3_CXR_Validation_Set/DLAI3_Val_Set1 (52).jpg  \n",
            "  inflating: DLAI3_CXR_Validation_Set/DLAI3_Val_Set1 (53).jpg  \n",
            "  inflating: DLAI3_CXR_Validation_Set/DLAI3_Val_Set1 (54).jpg  \n",
            "  inflating: DLAI3_CXR_Validation_Set/DLAI3_Val_Set1 (55).jpg  \n",
            "  inflating: DLAI3_CXR_Validation_Set/DLAI3_Val_Set1 (56).jpg  \n",
            "  inflating: DLAI3_CXR_Validation_Set/DLAI3_Val_Set1 (57).jpg  \n",
            "  inflating: DLAI3_CXR_Validation_Set/DLAI3_Val_Set1 (58).jpg  \n",
            "  inflating: DLAI3_CXR_Validation_Set/DLAI3_Val_Set1 (59).jpg  \n",
            "  inflating: DLAI3_CXR_Validation_Set/DLAI3_Val_Set1 (6).jpg  \n",
            "  inflating: DLAI3_CXR_Validation_Set/DLAI3_Val_Set1 (60).jpg  \n",
            "  inflating: DLAI3_CXR_Validation_Set/DLAI3_Val_Set1 (61).jpg  \n",
            "  inflating: DLAI3_CXR_Validation_Set/DLAI3_Val_Set1 (62).jpg  \n",
            "  inflating: DLAI3_CXR_Validation_Set/DLAI3_Val_Set1 (63).jpg  \n",
            "  inflating: DLAI3_CXR_Validation_Set/DLAI3_Val_Set1 (64).jpg  \n",
            "  inflating: DLAI3_CXR_Validation_Set/DLAI3_Val_Set1 (65).jpg  \n",
            "  inflating: DLAI3_CXR_Validation_Set/DLAI3_Val_Set1 (66).jpg  \n",
            "  inflating: DLAI3_CXR_Validation_Set/DLAI3_Val_Set1 (67).jpg  \n",
            "  inflating: DLAI3_CXR_Validation_Set/DLAI3_Val_Set1 (68).jpg  \n",
            "  inflating: DLAI3_CXR_Validation_Set/DLAI3_Val_Set1 (69).jpg  \n",
            "  inflating: DLAI3_CXR_Validation_Set/DLAI3_Val_Set1 (7).jpg  \n",
            "  inflating: DLAI3_CXR_Validation_Set/DLAI3_Val_Set1 (70).jpg  \n",
            "  inflating: DLAI3_CXR_Validation_Set/DLAI3_Val_Set1 (71).jpg  \n",
            "  inflating: DLAI3_CXR_Validation_Set/DLAI3_Val_Set1 (72).jpg  \n",
            "  inflating: DLAI3_CXR_Validation_Set/DLAI3_Val_Set1 (73).jpg  \n",
            "  inflating: DLAI3_CXR_Validation_Set/DLAI3_Val_Set1 (74).jpg  \n",
            "  inflating: DLAI3_CXR_Validation_Set/DLAI3_Val_Set1 (75).jpg  \n",
            "  inflating: DLAI3_CXR_Validation_Set/DLAI3_Val_Set1 (76).jpg  \n",
            "  inflating: DLAI3_CXR_Validation_Set/DLAI3_Val_Set1 (77).jpg  \n",
            "  inflating: DLAI3_CXR_Validation_Set/DLAI3_Val_Set1 (78).jpg  \n",
            "  inflating: DLAI3_CXR_Validation_Set/DLAI3_Val_Set1 (79).jpg  \n",
            "  inflating: DLAI3_CXR_Validation_Set/DLAI3_Val_Set1 (8).jpg  \n",
            "  inflating: DLAI3_CXR_Validation_Set/DLAI3_Val_Set1 (80).jpg  \n",
            "  inflating: DLAI3_CXR_Validation_Set/DLAI3_Val_Set1 (81).jpg  \n",
            "  inflating: DLAI3_CXR_Validation_Set/DLAI3_Val_Set1 (82).jpg  \n",
            "  inflating: DLAI3_CXR_Validation_Set/DLAI3_Val_Set1 (83).jpg  \n",
            "  inflating: DLAI3_CXR_Validation_Set/DLAI3_Val_Set1 (84).jpg  \n",
            "  inflating: DLAI3_CXR_Validation_Set/DLAI3_Val_Set1 (85).jpg  \n",
            "  inflating: DLAI3_CXR_Validation_Set/DLAI3_Val_Set1 (86).jpg  \n",
            "  inflating: DLAI3_CXR_Validation_Set/DLAI3_Val_Set1 (87).jpg  \n",
            "  inflating: DLAI3_CXR_Validation_Set/DLAI3_Val_Set1 (88).jpg  \n",
            "  inflating: DLAI3_CXR_Validation_Set/DLAI3_Val_Set1 (89).jpg  \n",
            "  inflating: DLAI3_CXR_Validation_Set/DLAI3_Val_Set1 (9).jpg  \n",
            "  inflating: DLAI3_CXR_Validation_Set/DLAI3_Val_Set1 (90).jpg  \n",
            "  inflating: DLAI3_CXR_Validation_Set/DLAI3_Val_Set1 (91).jpg  \n",
            "  inflating: DLAI3_CXR_Validation_Set/DLAI3_Val_Set1 (92).jpg  \n",
            "  inflating: DLAI3_CXR_Validation_Set/DLAI3_Val_Set1 (93).jpg  \n",
            "  inflating: DLAI3_CXR_Validation_Set/DLAI3_Val_Set1 (94).jpg  \n",
            "  inflating: DLAI3_CXR_Validation_Set/DLAI3_Val_Set1 (95).jpg  \n",
            "  inflating: DLAI3_CXR_Validation_Set/DLAI3_Val_Set1 (96).jpg  \n",
            "  inflating: DLAI3_CXR_Validation_Set/DLAI3_Val_Set1 (97).jpg  \n",
            "  inflating: DLAI3_CXR_Validation_Set/DLAI3_Val_Set1 (98).jpg  \n",
            "  inflating: DLAI3_CXR_Validation_Set/DLAI3_Val_Set1 (99).jpg  \n",
            "  inflating: DLAI3_CXR_Validation_Set/DLAI3_Validation_Set2(10).jpg  \n",
            "  inflating: DLAI3_CXR_Validation_Set/DLAI3_Validation_Set2(11).jpg  \n",
            "  inflating: DLAI3_CXR_Validation_Set/DLAI3_Validation_Set2(12).jpg  \n",
            "  inflating: DLAI3_CXR_Validation_Set/DLAI3_Validation_Set2(13).jpg  \n",
            "  inflating: DLAI3_CXR_Validation_Set/DLAI3_Validation_Set2(14).jpg  \n",
            "  inflating: DLAI3_CXR_Validation_Set/DLAI3_Validation_Set2(15).jpg  \n",
            "  inflating: DLAI3_CXR_Validation_Set/DLAI3_Validation_Set2(16).jpg  \n",
            "  inflating: DLAI3_CXR_Validation_Set/DLAI3_Validation_Set2(2).jpg  \n",
            "  inflating: DLAI3_CXR_Validation_Set/DLAI3_Validation_Set2(3).jpg  \n",
            "  inflating: DLAI3_CXR_Validation_Set/DLAI3_Validation_Set2(4).jpg  \n",
            "  inflating: DLAI3_CXR_Validation_Set/DLAI3_Validation_Set2(5).jpg  \n",
            "  inflating: DLAI3_CXR_Validation_Set/DLAI3_Validation_Set2(6).jpg  \n",
            "  inflating: DLAI3_CXR_Validation_Set/DLAI3_Validation_Set2(7).jpg  \n",
            "  inflating: DLAI3_CXR_Validation_Set/DLAI3_Validation_Set2(8).jpg  \n",
            "  inflating: DLAI3_CXR_Validation_Set/DLAI3_Validation_Set2(9).jpg  \n",
            "  inflating: DLAI3_CXR_Validation_Set/DLAI3_Validation_Set2_(1).jpg  \n",
            "  inflating: datasets/datasets/test/negative/00001303_001.png  \n",
            "  inflating: datasets/datasets/test/negative/00001304_001.png  \n",
            "  inflating: datasets/datasets/test/negative/00001305_001.png  \n",
            "  inflating: datasets/datasets/test/negative/00001308_002.png  \n",
            "  inflating: datasets/datasets/test/negative/00001362_001.png  \n",
            "  inflating: datasets/datasets/test/negative/00001362_004.png  \n",
            "  inflating: datasets/datasets/test/negative/00001362_008.png  \n",
            "  inflating: datasets/datasets/test/negative/00001362_014.png  \n",
            "  inflating: datasets/datasets/test/negative/00001385_000.png  \n",
            "  inflating: datasets/datasets/test/negative/00001385_003.png  \n",
            "  inflating: datasets/datasets/test/negative/00001389_001.png  \n",
            "  inflating: datasets/datasets/test/negative/00001389_002.png  \n",
            "  inflating: datasets/datasets/test/negative/00001426_000.png  \n",
            "  inflating: datasets/datasets/test/negative/00001433_002.png  \n",
            "  inflating: datasets/datasets/test/negative/00001445_000.png  \n",
            "  inflating: datasets/datasets/test/negative/00001452_002.png  \n",
            "  inflating: datasets/datasets/test/negative/00001483_017.png  \n",
            "  inflating: datasets/datasets/test/negative/00001483_021.png  \n",
            "  inflating: datasets/datasets/test/negative/00001489_000.png  \n",
            "  inflating: datasets/datasets/test/negative/00001497_000.png  \n",
            "  inflating: datasets/datasets/test/negative/00001516_000.png  \n",
            "  inflating: datasets/datasets/test/negative/00001526_000.png  \n",
            "  inflating: datasets/datasets/test/negative/00001526_002.png  \n",
            "  inflating: datasets/datasets/test/negative/00001543_000.png  \n",
            "  inflating: datasets/datasets/test/negative/00001543_005.png  \n",
            "  inflating: datasets/datasets/test/negative/00001543_006.png  \n",
            "  inflating: datasets/datasets/test/negative/00001543_007.png  \n",
            "  inflating: datasets/datasets/test/negative/00001568_000.png  \n",
            "  inflating: datasets/datasets/test/negative/00001573_000.png  \n",
            "  inflating: datasets/datasets/test/negative/00001576_001.png  \n",
            "  inflating: datasets/datasets/test/negative/00001591_000.png  \n",
            "  inflating: datasets/datasets/test/negative/00001595_002.png  \n",
            "  inflating: datasets/datasets/test/negative/00001616_009.png  \n",
            "  inflating: datasets/datasets/test/negative/00001616_011.png  \n",
            "  inflating: datasets/datasets/test/negative/00001620_003.png  \n",
            "  inflating: datasets/datasets/test/negative/00001620_005.png  \n",
            "  inflating: datasets/datasets/test/negative/00001650_000.png  \n",
            "  inflating: datasets/datasets/test/negative/00001666_001.png  \n",
            "  inflating: datasets/datasets/test/negative/00001680_000.png  \n",
            "  inflating: datasets/datasets/test/negative/00001682_001.png  \n",
            "  inflating: datasets/datasets/test/negative/00001684_008.png  \n",
            "  inflating: datasets/datasets/test/negative/00001684_010.png  \n",
            "  inflating: datasets/datasets/test/negative/00001684_011.png  \n",
            "  inflating: datasets/datasets/test/negative/00001684_012.png  \n",
            "  inflating: datasets/datasets/test/negative/00001689_009.png  \n",
            "  inflating: datasets/datasets/test/negative/00001689_011.png  \n",
            "  inflating: datasets/datasets/test/negative/00001689_012.png  \n",
            "  inflating: datasets/datasets/test/negative/00001697_001.png  \n",
            "  inflating: datasets/datasets/test/negative/00001699_002.png  \n",
            "  inflating: datasets/datasets/test/negative/00001700_001.png  \n",
            "  inflating: datasets/datasets/test/negative/00001710_000.png  \n",
            "  inflating: datasets/datasets/test/negative/00001719_000.png  \n",
            "  inflating: datasets/datasets/test/negative/00001739_000.png  \n",
            "  inflating: datasets/datasets/test/negative/00001741_002.png  \n",
            "  inflating: datasets/datasets/test/negative/00001754_000.png  \n",
            "  inflating: datasets/datasets/test/negative/00001759_001.png  \n",
            "  inflating: datasets/datasets/test/negative/00001801_000.png  \n",
            "  inflating: datasets/datasets/test/negative/00001803_001.png  \n",
            "  inflating: datasets/datasets/test/negative/00001803_002.png  \n",
            "  inflating: datasets/datasets/test/negative/00001803_005.png  \n",
            "  inflating: datasets/datasets/test/negative/00001820_003.png  \n",
            "  inflating: datasets/datasets/test/negative/00001823_000.png  \n",
            "  inflating: datasets/datasets/test/negative/00001841_000.png  \n",
            "  inflating: datasets/datasets/test/negative/00001847_006.png  \n",
            "  inflating: datasets/datasets/test/negative/00001880_000.png  \n",
            "  inflating: datasets/datasets/test/negative/00001880_001.png  \n",
            "  inflating: datasets/datasets/test/negative/00001885_000.png  \n",
            "  inflating: datasets/datasets/test/negative/00001895_000.png  \n",
            "  inflating: datasets/datasets/test/negative/00001951_010.png  \n",
            "  inflating: datasets/datasets/test/negative/00001951_017.png  \n",
            "  inflating: datasets/datasets/test/negative/00001957_002.png  \n",
            "  inflating: datasets/datasets/test/negative/00001961_005.png  \n",
            "  inflating: datasets/datasets/test/negative/00001986_005.png  \n",
            "  inflating: datasets/datasets/test/negative/00001986_006.png  \n",
            "  inflating: datasets/datasets/test/negative/00001986_007.png  \n",
            "  inflating: datasets/datasets/test/negative/00001986_011.png  \n",
            "  inflating: datasets/datasets/test/negative/00001993_002.png  \n",
            "  inflating: datasets/datasets/test/negative/00001995_004.png  \n",
            "  inflating: datasets/datasets/test/negative/00001996_010.png  \n",
            "  inflating: datasets/datasets/test/negative/00002007_000.png  \n",
            "  inflating: datasets/datasets/test/negative/00002032_006.png  \n",
            "  inflating: datasets/datasets/test/negative/00002034_000.png  \n",
            "  inflating: datasets/datasets/test/negative/00002037_001.png  \n",
            "  inflating: datasets/datasets/test/negative/00002048_014.png  \n",
            "  inflating: datasets/datasets/test/negative/00002071_000.png  \n",
            "  inflating: datasets/datasets/test/negative/00002086_000.png  \n",
            "  inflating: datasets/datasets/test/negative/00002091_000.png  \n",
            "  inflating: datasets/datasets/test/negative/00002094_002.png  \n",
            "  inflating: datasets/datasets/test/negative/00002120_007.png  \n",
            "  inflating: datasets/datasets/test/negative/00002154_000.png  \n",
            "  inflating: datasets/datasets/test/negative/00002184_002.png  \n",
            "  inflating: datasets/datasets/test/negative/00002194_002.png  \n",
            "  inflating: datasets/datasets/test/negative/00002219_008.png  \n",
            "  inflating: datasets/datasets/test/negative/00002229_003.png  \n",
            "  inflating: datasets/datasets/test/negative/00002229_004.png  \n",
            "  inflating: datasets/datasets/test/negative/00002233_000.png  \n",
            "  inflating: datasets/datasets/test/negative/00002262_007.png  \n",
            "  inflating: datasets/datasets/test/negative/00002262_010.png  \n",
            "  inflating: datasets/datasets/test/negative/00002288_010.png  \n",
            "  inflating: datasets/datasets/test/negative/00002301_000.png  \n",
            "  inflating: datasets/datasets/test/negative/00002344_007.png  \n",
            "  inflating: datasets/datasets/test/negative/00002344_008.png  \n",
            "  inflating: datasets/datasets/test/negative/00002356_005.png  \n",
            "  inflating: datasets/datasets/test/negative/00002366_001.png  \n",
            "  inflating: datasets/datasets/test/negative/00002381_004.png  \n",
            "  inflating: datasets/datasets/test/negative/00002381_005.png  \n",
            "  inflating: datasets/datasets/test/negative/00002429_000.png  \n",
            "  inflating: datasets/datasets/test/negative/00002442_001.png  \n",
            "  inflating: datasets/datasets/test/negative/00002457_013.png  \n",
            "  inflating: datasets/datasets/test/negative/00002464_001.png  \n",
            "  inflating: datasets/datasets/test/negative/00002474_006.png  \n",
            "  inflating: datasets/datasets/test/negative/00002482_001.png  \n",
            "  inflating: datasets/datasets/test/negative/00002545_001.png  \n",
            "  inflating: datasets/datasets/test/negative/00002549_003.png  \n",
            "  inflating: datasets/datasets/test/negative/00002549_005.png  \n",
            "  inflating: datasets/datasets/test/negative/00002550_000.png  \n",
            "  inflating: datasets/datasets/test/negative/00002572_004.png  \n",
            "  inflating: datasets/datasets/test/negative/00002572_005.png  \n",
            "  inflating: datasets/datasets/test/negative/00002576_008.png  \n",
            "  inflating: datasets/datasets/test/negative/00002577_000.png  \n",
            "  inflating: datasets/datasets/test/negative/00002594_000.png  \n",
            "  inflating: datasets/datasets/test/negative/00002594_007.png  \n",
            "  inflating: datasets/datasets/test/negative/00002633_005.png  \n",
            "  inflating: datasets/datasets/test/negative/00002633_011.png  \n",
            "  inflating: datasets/datasets/test/negative/00002649_008.png  \n",
            "  inflating: datasets/datasets/test/negative/00002658_001.png  \n",
            "  inflating: datasets/datasets/test/negative/00002658_002.png  \n",
            "  inflating: datasets/datasets/test/negative/00002659_001.png  \n",
            "  inflating: datasets/datasets/test/negative/00002673_019.png  \n",
            "  inflating: datasets/datasets/test/negative/00002678_004.png  \n",
            "  inflating: datasets/datasets/test/negative/00002678_005.png  \n",
            "  inflating: datasets/datasets/test/negative/00002678_006.png  \n",
            "  inflating: datasets/datasets/test/negative/00002735_001.png  \n",
            "  inflating: datasets/datasets/test/negative/00002735_002.png  \n",
            "  inflating: datasets/datasets/test/negative/00002754_000.png  \n",
            "  inflating: datasets/datasets/test/negative/00002790_003.png  \n",
            "  inflating: datasets/datasets/test/negative/00002817_010.png  \n",
            "  inflating: datasets/datasets/test/negative/00002819_000.png  \n",
            "  inflating: datasets/datasets/test/negative/00002827_001.png  \n",
            "  inflating: datasets/datasets/test/negative/00002830_000.png  \n",
            "  inflating: datasets/datasets/test/negative/00002860_021.png  \n",
            "  inflating: datasets/datasets/test/negative/00002860_024.png  \n",
            "  inflating: datasets/datasets/test/negative/00002863_003.png  \n",
            "  inflating: datasets/datasets/test/negative/00002904_000.png  \n",
            "  inflating: datasets/datasets/test/negative/00002933_001.png  \n",
            "  inflating: datasets/datasets/test/negative/00002939_002.png  \n",
            "  inflating: datasets/datasets/test/negative/00002946_000.png  \n",
            "  inflating: datasets/datasets/test/negative/00002949_000.png  \n",
            "  inflating: datasets/datasets/test/negative/00003005_002.png  \n",
            "  inflating: datasets/datasets/test/negative/00003005_012.png  \n",
            "  inflating: datasets/datasets/test/negative/00003005_013.png  \n",
            "  inflating: datasets/datasets/test/negative/00003005_019.png  \n",
            "  inflating: datasets/datasets/test/negative/00003043_000.png  \n",
            "  inflating: datasets/datasets/test/negative/00003053_001.png  \n",
            "  inflating: datasets/datasets/test/negative/00003080_000.png  \n",
            "  inflating: datasets/datasets/test/negative/00003097_003.png  \n",
            "  inflating: datasets/datasets/test/negative/00003126_019.png  \n",
            "  inflating: datasets/datasets/test/negative/00003126_021.png  \n",
            "  inflating: datasets/datasets/test/negative/00003129_008.png  \n",
            "  inflating: datasets/datasets/test/negative/00003130_004.png  \n",
            "  inflating: datasets/datasets/test/negative/00003140_005.png  \n",
            "  inflating: datasets/datasets/test/negative/00003140_006.png  \n",
            "  inflating: datasets/datasets/test/negative/00003140_007.png  \n",
            "  inflating: datasets/datasets/test/negative/00003140_008.png  \n",
            "  inflating: datasets/datasets/test/negative/00003140_017.png  \n",
            "  inflating: datasets/datasets/test/negative/00003150_000.png  \n",
            "  inflating: datasets/datasets/test/negative/00003158_001.png  \n",
            "  inflating: datasets/datasets/test/negative/00003158_002.png  \n",
            "  inflating: datasets/datasets/test/negative/00003190_013.png  \n",
            "  inflating: datasets/datasets/test/negative/00003190_014.png  \n",
            "  inflating: datasets/datasets/test/negative/00003190_015.png  \n",
            "  inflating: datasets/datasets/test/negative/00003198_005.png  \n",
            "  inflating: datasets/datasets/test/negative/00003248_001.png  \n",
            "  inflating: datasets/datasets/test/negative/00003248_003.png  \n",
            "  inflating: datasets/datasets/test/negative/00003249_002.png  \n",
            "  inflating: datasets/datasets/test/negative/00003259_000.png  \n",
            "  inflating: datasets/datasets/test/negative/00003275_005.png  \n",
            "  inflating: datasets/datasets/test/negative/00003276_000.png  \n",
            "  inflating: datasets/datasets/test/negative/00003291_001.png  \n",
            "  inflating: datasets/datasets/test/negative/00003292_002.png  \n",
            "  inflating: datasets/datasets/test/negative/00003330_005.png  \n",
            "  inflating: datasets/datasets/test/negative/00003331_000.png  \n",
            "  inflating: datasets/datasets/test/negative/00003353_003.png  \n",
            "  inflating: datasets/datasets/test/negative/00003353_004.png  \n",
            "  inflating: datasets/datasets/test/negative/00003361_004.png  \n",
            "  inflating: datasets/datasets/test/negative/00003361_008.png  \n",
            "  inflating: datasets/datasets/test/negative/00003361_012.png  \n",
            "  inflating: datasets/datasets/test/negative/00003363_001.png  \n",
            "  inflating: datasets/datasets/test/negative/00003370_001.png  \n",
            "  inflating: datasets/datasets/test/negative/00003382_009.png  \n",
            "  inflating: datasets/datasets/test/negative/00003384_000.png  \n",
            "  inflating: datasets/datasets/test/negative/00003392_004.png  \n",
            "  inflating: datasets/datasets/test/negative/00003392_031.png  \n",
            "  inflating: datasets/datasets/test/negative/00003393_030.png  \n",
            "  inflating: datasets/datasets/test/negative/00003395_003.png  \n",
            "  inflating: datasets/datasets/test/negative/00003407_005.png  \n",
            "  inflating: datasets/datasets/test/negative/00003421_004.png  \n",
            "  inflating: datasets/datasets/test/negative/00003426_008.png  \n",
            "  inflating: datasets/datasets/test/negative/00003426_014.png  \n",
            "  inflating: datasets/datasets/test/negative/00003426_015.png  \n",
            "  inflating: datasets/datasets/test/negative/00003438_000.png  \n",
            "  inflating: datasets/datasets/test/negative/00003441_000.png  \n",
            "  inflating: datasets/datasets/test/negative/00003442_000.png  \n",
            "  inflating: datasets/datasets/test/negative/00003447_001.png  \n",
            "  inflating: datasets/datasets/test/negative/00003463_001.png  \n",
            "  inflating: datasets/datasets/test/negative/00003468_006.png  \n",
            "  inflating: datasets/datasets/test/negative/00003478_000.png  \n",
            "  inflating: datasets/datasets/test/negative/00003478_002.png  \n",
            "  inflating: datasets/datasets/test/negative/00003490_010.png  \n",
            "  inflating: datasets/datasets/test/negative/00003490_011.png  \n",
            "  inflating: datasets/datasets/test/negative/00003490_012.png  \n",
            "  inflating: datasets/datasets/test/negative/00003490_013.png  \n",
            "  inflating: datasets/datasets/test/negative/00003510_007.png  \n",
            "  inflating: datasets/datasets/test/negative/00003510_015.png  \n",
            "  inflating: datasets/datasets/test/negative/00003517_000.png  \n",
            "  inflating: datasets/datasets/test/negative/00003518_000.png  \n",
            "  inflating: datasets/datasets/test/negative/00003541_000.png  \n",
            "  inflating: datasets/datasets/test/negative/00003552_004.png  \n",
            "  inflating: datasets/datasets/test/negative/00003552_005.png  \n",
            "  inflating: datasets/datasets/test/negative/00003560_001.png  \n",
            "  inflating: datasets/datasets/test/negative/00003572_000.png  \n",
            "  inflating: datasets/datasets/test/negative/00003574_006.png  \n",
            "  inflating: datasets/datasets/test/negative/00003580_000.png  \n",
            "  inflating: datasets/datasets/test/negative/00003580_001.png  \n",
            "  inflating: datasets/datasets/test/negative/00003623_000.png  \n",
            "  inflating: datasets/datasets/test/negative/00003628_000.png  \n",
            "  inflating: datasets/datasets/test/negative/00003628_002.png  \n",
            "  inflating: datasets/datasets/test/negative/00003646_001.png  \n",
            "  inflating: datasets/datasets/test/negative/00003689_010.png  \n",
            "  inflating: datasets/datasets/test/negative/00003693_006.png  \n",
            "  inflating: datasets/datasets/test/negative/00003693_007.png  \n",
            "  inflating: datasets/datasets/test/negative/00003698_000.png  \n",
            "  inflating: datasets/datasets/test/negative/00003742_001.png  \n",
            "  inflating: datasets/datasets/test/negative/00003748_000.png  \n",
            "  inflating: datasets/datasets/test/negative/00003750_003.png  \n",
            "  inflating: datasets/datasets/test/negative/00003758_005.png  \n",
            "  inflating: datasets/datasets/test/negative/00003779_005.png  \n",
            "  inflating: datasets/datasets/test/negative/00003806_001.png  \n",
            "  inflating: datasets/datasets/test/negative/00003828_000.png  \n",
            "  inflating: datasets/datasets/test/negative/00003837_004.png  \n",
            "  inflating: datasets/datasets/test/negative/00003847_012.png  \n",
            "  inflating: datasets/datasets/test/negative/00003849_000.png  \n",
            "  inflating: datasets/datasets/test/negative/00003867_004.png  \n",
            "  inflating: datasets/datasets/test/negative/00003872_001.png  \n",
            "  inflating: datasets/datasets/test/negative/00003896_003.png  \n",
            "  inflating: datasets/datasets/test/negative/00003896_006.png  \n",
            "  inflating: datasets/datasets/test/negative/00003908_000.png  \n",
            "  inflating: datasets/datasets/test/negative/00003914_001.png  \n",
            "  inflating: datasets/datasets/test/negative/IM-0033-0001-0001.jpeg  \n",
            "  inflating: datasets/datasets/test/negative/IM-0061-0001.jpeg  \n",
            "  inflating: datasets/datasets/test/negative/IM-0089-0001.jpeg  \n",
            "  inflating: datasets/datasets/test/negative/IM-0097-0001.jpeg  \n",
            "  inflating: datasets/datasets/test/negative/IM-0240-0001.jpeg  \n",
            "  inflating: datasets/datasets/test/negative/IM-0466-0001.jpeg  \n",
            "  inflating: datasets/datasets/test/negative/NORMAL2-IM-0035-0001.jpeg  \n",
            "  inflating: datasets/datasets/test/negative/NORMAL2-IM-0045-0001.jpeg  \n",
            "  inflating: datasets/datasets/test/negative/NORMAL2-IM-0051-0001.jpeg  \n",
            "  inflating: datasets/datasets/test/negative/NORMAL2-IM-0086-0001.jpeg  \n",
            "  inflating: datasets/datasets/test/negative/NORMAL2-IM-0092-0001.jpeg  \n",
            "  inflating: datasets/datasets/test/negative/NORMAL2-IM-0098-0001.jpeg  \n",
            "  inflating: datasets/datasets/test/negative/NORMAL2-IM-0217-0001.jpeg  \n",
            "  inflating: datasets/datasets/test/negative/NORMAL2-IM-0267-0001.jpeg  \n",
            "  inflating: datasets/datasets/test/negative/NORMAL2-IM-0273-0001.jpeg  \n",
            "  inflating: datasets/datasets/test/negative/NORMAL2-IM-0279-0001.jpeg  \n",
            "  inflating: datasets/datasets/test/negative/NORMAL2-IM-0285-0001.jpeg  \n",
            "  inflating: datasets/datasets/test/negative/NORMAL2-IM-0315-0001.jpeg  \n",
            "  inflating: datasets/datasets/test/negative/NORMAL2-IM-0335-0001.jpeg  \n",
            "  inflating: datasets/datasets/test/negative/NORMAL2-IM-0345-0001.jpeg  \n",
            "  inflating: datasets/datasets/test/negative/NORMAL2-IM-0351-0001.jpeg  \n",
            "  inflating: datasets/datasets/test/negative/NORMAL2-IM-0696-0001.jpeg  \n",
            "  inflating: datasets/datasets/test/negative/NORMAL2-IM-0869-0001.jpeg  \n",
            "  inflating: datasets/datasets/test/negative/NORMAL2-IM-1179-0001.jpeg  \n",
            "  inflating: datasets/datasets/test/negative/person1102_bacteria_3043.jpeg  \n",
            "  inflating: datasets/datasets/test/negative/person1290_virus_2215.jpeg  \n",
            "  inflating: datasets/datasets/test/negative/person1558_bacteria_4066.jpeg  \n",
            "  inflating: datasets/datasets/test/negative/person1599_virus_2776.jpeg  \n",
            "  inflating: datasets/datasets/test/negative/person1830_bacteria_4693.jpeg  \n",
            "  inflating: datasets/datasets/test/negative/person1935_bacteria_4849.jpeg  \n",
            "  inflating: datasets/datasets/test/negative/person1_bacteria_2.jpeg  \n",
            "  inflating: datasets/datasets/test/negative/person259_bacteria_1220.jpeg  \n",
            "  inflating: datasets/datasets/test/negative/person339_bacteria_1574.jpeg  \n",
            "  inflating: datasets/datasets/test/negative/person378_virus_761.jpeg  \n",
            "  inflating: datasets/datasets/test/negative/person438_bacteria_1893.jpeg  \n",
            "  inflating: datasets/datasets/test/negative/person525_bacteria_2216.jpeg  \n",
            "  inflating: datasets/datasets/test/negative/person612_bacteria_2478.jpeg  \n",
            "  inflating: datasets/datasets/test/negative/person651_bacteria_2543.jpeg  \n",
            "  inflating: datasets/datasets/test/negative/person925_virus_1582.jpeg  \n",
            "  inflating: datasets/datasets/test/negative/person934_virus_1595.jpeg  \n",
            "  inflating: datasets/datasets/test/negative/person939_bacteria_2864.jpeg  \n",
            "  inflating: datasets/datasets/test/negative/person989_virus_1667.jpeg  \n",
            "  inflating: datasets/datasets/test/positive/1-s2.0-S0140673620303706-fx1_lrg.jpg  \n",
            "  inflating: datasets/datasets/test/positive/1-s2.0-S0929664620300449-gr2_lrg-a.jpg  \n",
            "  inflating: datasets/datasets/test/positive/1-s2.0-S0929664620300449-gr2_lrg-b.jpg  \n",
            "  inflating: datasets/datasets/test/positive/1-s2.0-S0929664620300449-gr2_lrg-c.jpg  \n",
            "  inflating: datasets/datasets/test/positive/1-s2.0-S0929664620300449-gr2_lrg-d.jpg  \n",
            "  inflating: datasets/datasets/test/positive/1-s2.0-S1684118220300608-main.pdf-002.jpg  \n",
            "  inflating: datasets/datasets/test/positive/1-s2.0-S1684118220300682-main.pdf-002-a1.png  \n",
            "  inflating: datasets/datasets/test/positive/1-s2.0-S1684118220300682-main.pdf-002-a2.png  \n",
            "  inflating: datasets/datasets/test/positive/1-s2.0-S1684118220300682-main.pdf-003-b1.png  \n",
            "  inflating: datasets/datasets/test/positive/1-s2.0-S1684118220300682-main.pdf-003-b2 (1).png  \n",
            "  inflating: datasets/datasets/test/positive/1-s2.0-S1684118220300682-main.pdf-003-b2(1).png  \n",
            "  inflating: datasets/datasets/test/positive/1-s2.0-S1684118220300682-main.pdf-003-b2.png  \n",
            "  inflating: datasets/datasets/test/positive/1.CXRCTThoraximagesofCOVID-19fromSingapore.pdf-001-fig2b.png  \n",
            "  inflating: datasets/datasets/test/positive/1.CXRCTThoraximagesofCOVID-19fromSingapore.pdf-002-fig3a.png  \n",
            "  inflating: datasets/datasets/test/positive/1.CXRCTThoraximagesofCOVID-19fromSingapore.pdf-002-fig3b.png  \n",
            "  inflating: datasets/datasets/test/positive/1.CXRCTThoraximagesofCOVID-19fromSingapore.pdf-003-fig4a.png  \n",
            "  inflating: datasets/datasets/test/positive/171CB377-62FF-4B76-906C-F3787A01CB2E.jpeg  \n",
            "  inflating: datasets/datasets/test/positive/2966893D-5DDF-4B68-9E2B-4979D5956C8E.jpeg  \n",
            "  inflating: datasets/datasets/test/positive/2B8649B2-00C4-4233-85D5-1CE240CF233B.jpeg  \n",
            "  inflating: datasets/datasets/test/positive/2C10A413-AABE-4807-8CCE-6A2025594067.jpeg  \n",
            "  inflating: datasets/datasets/test/positive/353889E0-A1E8-4F9E-A0B8-F24F36BCFBFB.jpeg  \n",
            "  inflating: datasets/datasets/test/positive/41591_2020_819_Fig1_HTML.webp-day10 (1).png  \n",
            "  inflating: datasets/datasets/test/positive/41591_2020_819_Fig1_HTML.webp-day10(1).png  \n",
            "  inflating: datasets/datasets/test/positive/41591_2020_819_Fig1_HTML.webp-day10.png  \n",
            "  inflating: datasets/datasets/test/positive/41591_2020_819_Fig1_HTML.webp-day5(1).png  \n",
            "  inflating: datasets/datasets/test/positive/41591_2020_819_Fig1_HTML.webp-day5.png  \n",
            "  inflating: datasets/datasets/test/positive/58cb9263f16e94305c730685358e4e_jumbo.jpeg  \n",
            "  inflating: datasets/datasets/test/positive/5e6dd879fde9502400e58b2f.jpeg  \n",
            "  inflating: datasets/datasets/test/positive/6C94A287-C059-46A0-8600-AFB95F4727B7.jpeg  \n",
            "  inflating: datasets/datasets/test/positive/6CB4EFC6-68FA-4CD5-940C-BEFA8DAFE9A7.jpeg  \n",
            "  inflating: datasets/datasets/test/positive/6b44464d-73a7-4cf3-bbb6-ffe7168300e3.annot.original.jpeg  \n",
            "  inflating: datasets/datasets/test/positive/7EF28E12-F628-4BEC-A8C5-E6277C2E4F60.png  \n",
            "  inflating: datasets/datasets/test/positive/80446565-E090-4187-A031-9D3CEAA586C8.jpeg  \n",
            "  inflating: datasets/datasets/test/positive/85E52EB3-56E9-4D67-82DA-DEA247C82886.jpeg  \n",
            "  inflating: datasets/datasets/test/positive/8FDE8DBA-CFBD-4B4C-B1A4-6F36A93B7E87.jpeg  \n",
            "  inflating: datasets/datasets/test/positive/93FE0BB1-022D-4F24-9727-987A07975FFB.jpeg  \n",
            "  inflating: datasets/datasets/test/positive/9C34AF49-E589-44D5-92D3-168B3B04E4A6.jpeg  \n",
            "  inflating: datasets/datasets/test/positive/9fdd3c3032296fd04d2cad5d9070d4_jumbo.jpeg  \n",
            "  inflating: datasets/datasets/test/positive/CD50BA96-6982-4C80-AE7B-5F67ACDBFA56.jpeg  \n",
            "  inflating: datasets/datasets/test/positive/D7AF463C-2369-492D-908D-BE1911CCD74C.jpeg  \n",
            "  inflating: datasets/datasets/test/positive/E1724330-1866-4581-8CD8-CEC9B8AFEDDE.jpeg  \n",
            "  inflating: datasets/datasets/test/positive/E63574A7-4188-4C8D-8D17-9D67A18A1AFA.jpeg  \n",
            "  inflating: datasets/datasets/test/positive/FE9F9A5D-2830-46F9-851B-1FF4534959BE(1).jpeg  \n",
            "  inflating: datasets/datasets/test/positive/FE9F9A5D-2830-46F9-851B-1FF4534959BE.jpeg  \n",
            "  inflating: datasets/datasets/test/positive/all14238-fig-0002-m-f.jpg  \n",
            "  inflating: datasets/datasets/test/positive/auntminnie-a-2020_01_28_23_51_6665_2020_01_28_Vietnam_coronavirus.jpeg  \n",
            "  inflating: datasets/datasets/test/positive/auntminnie-b-2020_01_28_23_51_6665_2020_01_28_Vietnam_coronavirus.jpeg  \n",
            "  inflating: datasets/datasets/test/positive/auntminnie-c-2020_01_28_23_51_6665_2020_01_28_Vietnam_coronavirus.jpeg  \n",
            "  inflating: datasets/datasets/test/positive/auntminnie-d-2020_01_28_23_51_6665_2020_01_28_Vietnam_coronavirus.jpeg  \n",
            "  inflating: datasets/datasets/test/positive/ciaa199.pdf-001-a (1).png  \n",
            "  inflating: datasets/datasets/test/positive/ciaa199.pdf-001-a(1).png  \n",
            "  inflating: datasets/datasets/test/positive/ciaa199.pdf-001-a.png  \n",
            "  inflating: datasets/datasets/test/positive/ciaa199.pdf-001-b (1).png  \n",
            "  inflating: datasets/datasets/test/positive/ciaa199.pdf-001-b(1).png  \n",
            "  inflating: datasets/datasets/test/positive/ciaa199.pdf-001-b.png  \n",
            "  inflating: datasets/datasets/test/positive/ciaa199.pdf-001-c (1).png  \n",
            "  inflating: datasets/datasets/test/positive/ciaa199.pdf-001-c(1).png  \n",
            "  inflating: datasets/datasets/test/positive/ciaa199.pdf-001-c.png  \n",
            "  inflating: datasets/datasets/test/positive/covid-19-pneumonia-14-PA.png  \n",
            "  inflating: datasets/datasets/test/positive/covid-19-pneumonia-15-PA.jpg  \n",
            "  inflating: datasets/datasets/test/positive/covid-19-pneumonia-19.jpg  \n",
            "  inflating: datasets/datasets/test/positive/covid-19-pneumonia-24-day6.jpg  \n",
            "  inflating: datasets/datasets/test/positive/covid-19-pneumonia-evolution-over-a-week-1-day0-PA.jpg  \n",
            "  inflating: datasets/datasets/test/positive/covid-19-pneumonia-evolution-over-a-week-1-day3.jpg  \n",
            "  inflating: datasets/datasets/test/positive/covid-19-pneumonia-evolution-over-a-week-1-day4.jpg  \n",
            "  inflating: datasets/datasets/test/positive/covid-19-pneumonia-rapidly-progressive-3-days.jpg  \n",
            "  inflating: datasets/datasets/test/positive/covid-19-rapidly-progressive-acute-respiratory-distress-syndrome-ards-day-2.jpg  \n",
            "  inflating: datasets/datasets/test/positive/figure1-5e71be566aa8714a04de3386-98-left.jpeg  \n",
            "  inflating: datasets/datasets/test/positive/figure1-5e73d7ae897e27ff066a30cb-98.jpeg  \n",
            "  inflating: datasets/datasets/test/positive/figure1-5e75d0940b71e1b702629659-98-right.jpeg  \n",
            "  inflating: datasets/datasets/test/positive/gr1_lrg-a(1).jpg  \n",
            "  inflating: datasets/datasets/test/positive/gr1_lrg-a.jpg  \n",
            "  inflating: datasets/datasets/test/positive/gr1_lrg-b(1).jpg  \n",
            "  inflating: datasets/datasets/test/positive/gr1_lrg-b.jpg  \n",
            "  inflating: datasets/datasets/test/positive/jkms-35-e79-g001-l-a.jpg  \n",
            "  inflating: datasets/datasets/test/positive/kjr-21-e24-g001-l-a(1).jpg  \n",
            "  inflating: datasets/datasets/test/positive/kjr-21-e24-g001-l-a.jpg  \n",
            "  inflating: datasets/datasets/test/positive/kjr-21-e24-g002-l-a(1).jpg  \n",
            "  inflating: datasets/datasets/test/positive/kjr-21-e24-g002-l-a.jpg  \n",
            "  inflating: datasets/datasets/test/positive/kjr-21-e24-g003-l-a (1).jpg  \n",
            "  inflating: datasets/datasets/test/positive/kjr-21-e24-g003-l-a(1).jpg  \n",
            "  inflating: datasets/datasets/test/positive/kjr-21-e24-g003-l-a.jpg  \n",
            "  inflating: datasets/datasets/test/positive/kjr-21-e25-g001-l-a (1).jpg  \n",
            "  inflating: datasets/datasets/test/positive/kjr-21-e25-g001-l-a(1).jpg  \n",
            "  inflating: datasets/datasets/test/positive/kjr-21-e25-g001-l-a.jpg  \n",
            "  inflating: datasets/datasets/test/positive/lancet-case2a.jpg  \n",
            "  inflating: datasets/datasets/test/positive/lancet-case2b.jpg  \n",
            "  inflating: datasets/datasets/test/positive/nCoV-radiol.2020200269.fig1-day7.jpeg  \n",
            "  inflating: datasets/datasets/test/positive/nejmc2001573_f1a.jpeg  \n",
            "  inflating: datasets/datasets/test/positive/nejmc2001573_f1b.jpeg  \n",
            "  inflating: datasets/datasets/test/positive/nejmoa2001191_f1-PA.jpeg  \n",
            "  inflating: datasets/datasets/test/positive/nejmoa2001191_f3-PA.jpeg  \n",
            "  inflating: datasets/datasets/test/positive/nejmoa2001191_f4.jpeg  \n",
            "  inflating: datasets/datasets/test/positive/nejmoa2001191_f5-PA.jpeg  \n",
            "  inflating: datasets/datasets/test/positive/person1102_bacteria_3043.jpeg  \n",
            "  inflating: datasets/datasets/test/positive/person1290_virus_2215.jpeg  \n",
            "  inflating: datasets/datasets/test/positive/person1558_bacteria_4066.jpeg  \n",
            "  inflating: datasets/datasets/test/positive/person1599_virus_2776.jpeg  \n",
            "  inflating: datasets/datasets/test/positive/person1830_bacteria_4693.jpeg  \n",
            "  inflating: datasets/datasets/test/positive/person1935_bacteria_4849.jpeg  \n",
            "  inflating: datasets/datasets/test/positive/person259_bacteria_1220.jpeg  \n",
            "  inflating: datasets/datasets/test/positive/person339_bacteria_1574.jpeg  \n",
            "  inflating: datasets/datasets/test/positive/person378_virus_761.jpeg  \n",
            "  inflating: datasets/datasets/test/positive/person438_bacteria_1893.jpeg  \n",
            "  inflating: datasets/datasets/test/positive/person525_bacteria_2216.jpeg  \n",
            "  inflating: datasets/datasets/test/positive/person612_bacteria_2478.jpeg  \n",
            "  inflating: datasets/datasets/test/positive/person651_bacteria_2543.jpeg  \n",
            "  inflating: datasets/datasets/test/positive/person925_virus_1582.jpeg  \n",
            "  inflating: datasets/datasets/test/positive/person934_virus_1595.jpeg  \n",
            "  inflating: datasets/datasets/test/positive/person939_bacteria_2864.jpeg  \n",
            "  inflating: datasets/datasets/test/positive/person989_virus_1667.jpeg  \n",
            "  inflating: datasets/datasets/test/positive/radiol.2020200490.fig3.jpeg  \n",
            "  inflating: datasets/datasets/test/positive/radiopedia-covid-19-pneumonia-2.jpg  \n",
            "  inflating: datasets/datasets/test/positive/ryct.2020200028.fig1a.jpeg  \n",
            "  inflating: datasets/datasets/test/positive/ryct.2020200034.fig2.jpeg  \n",
            "  inflating: datasets/datasets/test/positive/ryct.2020200034.fig5-day0.jpeg  \n",
            "  inflating: datasets/datasets/test/positive/ryct.2020200034.fig5-day4.jpeg  \n",
            "  inflating: datasets/datasets/test/positive/ryct.2020200034.fig5-day7.jpeg  \n",
            "  inflating: datasets/datasets/train/negative/00001280_004.png  \n",
            "  inflating: datasets/datasets/train/negative/00001281_000.png  \n",
            "  inflating: datasets/datasets/train/negative/00001299_000.png  \n",
            "  inflating: datasets/datasets/train/negative/00001300_000.png  \n",
            "  inflating: datasets/datasets/train/negative/00001303_001.png  \n",
            "  inflating: datasets/datasets/train/negative/00001304_001.png  \n",
            "  inflating: datasets/datasets/train/negative/00001305_001.png  \n",
            "  inflating: datasets/datasets/train/negative/00001308_002.png  \n",
            "  inflating: datasets/datasets/train/negative/00001315_006.png  \n",
            "  inflating: datasets/datasets/train/negative/00001323_001.png  \n",
            "  inflating: datasets/datasets/train/negative/00001323_002.png  \n",
            "  inflating: datasets/datasets/train/negative/00001326_002.png  \n",
            "  inflating: datasets/datasets/train/negative/00001362_001.png  \n",
            "  inflating: datasets/datasets/train/negative/00001362_004.png  \n",
            "  inflating: datasets/datasets/train/negative/00001362_008.png  \n",
            "  inflating: datasets/datasets/train/negative/00001362_014.png  \n",
            "  inflating: datasets/datasets/train/negative/00001362_017.png  \n",
            "  inflating: datasets/datasets/train/negative/00001371_001.png  \n",
            "  inflating: datasets/datasets/train/negative/00001371_002.png  \n",
            "  inflating: datasets/datasets/train/negative/00001371_003.png  \n",
            "  inflating: datasets/datasets/train/negative/00001385_000.png  \n",
            "  inflating: datasets/datasets/train/negative/00001385_003.png  \n",
            "  inflating: datasets/datasets/train/negative/00001389_001.png  \n",
            "  inflating: datasets/datasets/train/negative/00001389_002.png  \n",
            "  inflating: datasets/datasets/train/negative/00001389_003.png  \n",
            "  inflating: datasets/datasets/train/negative/00001395_009.png  \n",
            "  inflating: datasets/datasets/train/negative/00001401_001.png  \n",
            "  inflating: datasets/datasets/train/negative/00001403_002.png  \n",
            "  inflating: datasets/datasets/train/negative/00001426_000.png  \n",
            "  inflating: datasets/datasets/train/negative/00001433_002.png  \n",
            "  inflating: datasets/datasets/train/negative/00001445_000.png  \n",
            "  inflating: datasets/datasets/train/negative/00001452_002.png  \n",
            "  inflating: datasets/datasets/train/negative/00001460_004.png  \n",
            "  inflating: datasets/datasets/train/negative/00001464_000.png  \n",
            "  inflating: datasets/datasets/train/negative/00001470_003.png  \n",
            "  inflating: datasets/datasets/train/negative/00001471_001.png  \n",
            "  inflating: datasets/datasets/train/negative/00001483_017.png  \n",
            "  inflating: datasets/datasets/train/negative/00001483_021.png  \n",
            "  inflating: datasets/datasets/train/negative/00001489_000.png  \n",
            "  inflating: datasets/datasets/train/negative/00001497_000.png  \n",
            "  inflating: datasets/datasets/train/negative/00001504_000.png  \n",
            "  inflating: datasets/datasets/train/negative/00001504_001.png  \n",
            "  inflating: datasets/datasets/train/negative/00001504_002.png  \n",
            "  inflating: datasets/datasets/train/negative/00001507_002.png  \n",
            "  inflating: datasets/datasets/train/negative/00001516_000.png  \n",
            "  inflating: datasets/datasets/train/negative/00001526_000.png  \n",
            "  inflating: datasets/datasets/train/negative/00001526_002.png  \n",
            "  inflating: datasets/datasets/train/negative/00001543_000.png  \n",
            "  inflating: datasets/datasets/train/negative/00001543_001.png  \n",
            "  inflating: datasets/datasets/train/negative/00001543_002.png  \n",
            "  inflating: datasets/datasets/train/negative/00001543_003.png  \n",
            "  inflating: datasets/datasets/train/negative/00001543_004.png  \n",
            "  inflating: datasets/datasets/train/negative/00001543_005.png  \n",
            "  inflating: datasets/datasets/train/negative/00001543_006.png  \n",
            "  inflating: datasets/datasets/train/negative/00001543_007.png  \n",
            "  inflating: datasets/datasets/train/negative/00001568_000.png  \n",
            "  inflating: datasets/datasets/train/negative/00001568_001.png  \n",
            "  inflating: datasets/datasets/train/negative/00001568_003.png  \n",
            "  inflating: datasets/datasets/train/negative/00001568_004.png  \n",
            "  inflating: datasets/datasets/train/negative/00001569_003.png  \n",
            "  inflating: datasets/datasets/train/negative/00001573_000.png  \n",
            "  inflating: datasets/datasets/train/negative/00001576_001.png  \n",
            "  inflating: datasets/datasets/train/negative/00001591_000.png  \n",
            "  inflating: datasets/datasets/train/negative/00001595_002.png  \n",
            "  inflating: datasets/datasets/train/negative/00001613_000.png  \n",
            "  inflating: datasets/datasets/train/negative/00001613_003.png  \n",
            "  inflating: datasets/datasets/train/negative/00001613_004.png  \n",
            "  inflating: datasets/datasets/train/negative/00001616_008.png  \n",
            "  inflating: datasets/datasets/train/negative/00001616_009.png  \n",
            "  inflating: datasets/datasets/train/negative/00001616_011.png  \n",
            "  inflating: datasets/datasets/train/negative/00001620_003.png  \n",
            "  inflating: datasets/datasets/train/negative/00001620_005.png  \n",
            "  inflating: datasets/datasets/train/negative/00001629_001.png  \n",
            "  inflating: datasets/datasets/train/negative/00001629_002.png  \n",
            "  inflating: datasets/datasets/train/negative/00001634_008.png  \n",
            "  inflating: datasets/datasets/train/negative/00001638_000.png  \n",
            "  inflating: datasets/datasets/train/negative/00001650_000.png  \n",
            "  inflating: datasets/datasets/train/negative/00001666_001.png  \n",
            "  inflating: datasets/datasets/train/negative/00001680_000.png  \n",
            "  inflating: datasets/datasets/train/negative/00001682_001.png  \n",
            "  inflating: datasets/datasets/train/negative/00001684_000.png  \n",
            "  inflating: datasets/datasets/train/negative/00001684_003.png  \n",
            "  inflating: datasets/datasets/train/negative/00001684_005.png  \n",
            "  inflating: datasets/datasets/train/negative/00001684_006.png  \n",
            "  inflating: datasets/datasets/train/negative/00001684_008.png  \n",
            "  inflating: datasets/datasets/train/negative/00001684_010.png  \n",
            "  inflating: datasets/datasets/train/negative/00001684_011.png  \n",
            "  inflating: datasets/datasets/train/negative/00001684_012.png  \n",
            "  inflating: datasets/datasets/train/negative/00001684_015.png  \n",
            "  inflating: datasets/datasets/train/negative/00001684_021.png  \n",
            "  inflating: datasets/datasets/train/negative/00001684_028.png  \n",
            "  inflating: datasets/datasets/train/negative/00001689_008.png  \n",
            "  inflating: datasets/datasets/train/negative/00001689_009.png  \n",
            "  inflating: datasets/datasets/train/negative/00001689_011.png  \n",
            "  inflating: datasets/datasets/train/negative/00001689_012.png  \n",
            "  inflating: datasets/datasets/train/negative/00001697_001.png  \n",
            "  inflating: datasets/datasets/train/negative/00001697_011.png  \n",
            "  inflating: datasets/datasets/train/negative/00001697_014.png  \n",
            "  inflating: datasets/datasets/train/negative/00001697_015.png  \n",
            "  inflating: datasets/datasets/train/negative/00001699_000.png  \n",
            "  inflating: datasets/datasets/train/negative/00001699_002.png  \n",
            "  inflating: datasets/datasets/train/negative/00001700_001.png  \n",
            "  inflating: datasets/datasets/train/negative/00001710_000.png  \n",
            "  inflating: datasets/datasets/train/negative/00001719_000.png  \n",
            "  inflating: datasets/datasets/train/negative/00001720_002.png  \n",
            "  inflating: datasets/datasets/train/negative/00001724_005.png  \n",
            "  inflating: datasets/datasets/train/negative/00001724_006.png  \n",
            "  inflating: datasets/datasets/train/negative/00001734_001.png  \n",
            "  inflating: datasets/datasets/train/negative/00001739_000.png  \n",
            "  inflating: datasets/datasets/train/negative/00001741_002.png  \n",
            "  inflating: datasets/datasets/train/negative/00001754_000.png  \n",
            "  inflating: datasets/datasets/train/negative/00001759_001.png  \n",
            "  inflating: datasets/datasets/train/negative/00001763_000.png  \n",
            "  inflating: datasets/datasets/train/negative/00001769_000.png  \n",
            "  inflating: datasets/datasets/train/negative/00001769_002.png  \n",
            "  inflating: datasets/datasets/train/negative/00001772_007.png  \n",
            "  inflating: datasets/datasets/train/negative/00001801_000.png  \n",
            "  inflating: datasets/datasets/train/negative/00001803_001.png  \n",
            "  inflating: datasets/datasets/train/negative/00001803_002.png  \n",
            "  inflating: datasets/datasets/train/negative/00001803_005.png  \n",
            "  inflating: datasets/datasets/train/negative/00001803_017.png  \n",
            "  inflating: datasets/datasets/train/negative/00001804_000.png  \n",
            "  inflating: datasets/datasets/train/negative/00001807_000.png  \n",
            "  inflating: datasets/datasets/train/negative/00001820_002.png  \n",
            "  inflating: datasets/datasets/train/negative/00001820_003.png  \n",
            "  inflating: datasets/datasets/train/negative/00001823_000.png  \n",
            "  inflating: datasets/datasets/train/negative/00001841_000.png  \n",
            "  inflating: datasets/datasets/train/negative/00001847_006.png  \n",
            "  inflating: datasets/datasets/train/negative/00001854_002.png  \n",
            "  inflating: datasets/datasets/train/negative/00001854_003.png  \n",
            "  inflating: datasets/datasets/train/negative/00001864_003.png  \n",
            "  inflating: datasets/datasets/train/negative/00001865_000.png  \n",
            "  inflating: datasets/datasets/train/negative/00001880_000.png  \n",
            "  inflating: datasets/datasets/train/negative/00001880_001.png  \n",
            "  inflating: datasets/datasets/train/negative/00001885_000.png  \n",
            "  inflating: datasets/datasets/train/negative/00001895_000.png  \n",
            "  inflating: datasets/datasets/train/negative/00001921_002.png  \n",
            "  inflating: datasets/datasets/train/negative/00001935_000.png  \n",
            "  inflating: datasets/datasets/train/negative/00001951_000.png  \n",
            "  inflating: datasets/datasets/train/negative/00001951_008.png  \n",
            "  inflating: datasets/datasets/train/negative/00001951_010.png  \n",
            "  inflating: datasets/datasets/train/negative/00001951_017.png  \n",
            "  inflating: datasets/datasets/train/negative/00001957_002.png  \n",
            "  inflating: datasets/datasets/train/negative/00001961_005.png  \n",
            "  inflating: datasets/datasets/train/negative/00001968_003.png  \n",
            "  inflating: datasets/datasets/train/negative/00001970_001.png  \n",
            "  inflating: datasets/datasets/train/negative/00001974_001.png  \n",
            "  inflating: datasets/datasets/train/negative/00001981_000.png  \n",
            "  inflating: datasets/datasets/train/negative/00001986_005.png  \n",
            "  inflating: datasets/datasets/train/negative/00001986_006.png  \n",
            "  inflating: datasets/datasets/train/negative/00001986_007.png  \n",
            "  inflating: datasets/datasets/train/negative/00001986_011.png  \n",
            "  inflating: datasets/datasets/train/negative/00001992_000.png  \n",
            "  inflating: datasets/datasets/train/negative/00001992_010.png  \n",
            "  inflating: datasets/datasets/train/negative/00001992_015.png  \n",
            "  inflating: datasets/datasets/train/negative/00001992_016.png  \n",
            "  inflating: datasets/datasets/train/negative/00001993_002.png  \n",
            "  inflating: datasets/datasets/train/negative/00001995_004.png  \n",
            "  inflating: datasets/datasets/train/negative/00001996_010.png  \n",
            "  inflating: datasets/datasets/train/negative/00002007_000.png  \n",
            "  inflating: datasets/datasets/train/negative/00002013_002.png  \n",
            "  inflating: datasets/datasets/train/negative/00002016_003.png  \n",
            "  inflating: datasets/datasets/train/negative/00002022_000.png  \n",
            "  inflating: datasets/datasets/train/negative/00002032_003.png  \n",
            "  inflating: datasets/datasets/train/negative/00002032_006.png  \n",
            "  inflating: datasets/datasets/train/negative/00002034_000.png  \n",
            "  inflating: datasets/datasets/train/negative/00002037_001.png  \n",
            "  inflating: datasets/datasets/train/negative/00002048_014.png  \n",
            "  inflating: datasets/datasets/train/negative/00002053_000.png  \n",
            "  inflating: datasets/datasets/train/negative/00002058_013.png  \n",
            "  inflating: datasets/datasets/train/negative/00002058_014.png  \n",
            "  inflating: datasets/datasets/train/negative/00002070_003.png  \n",
            "  inflating: datasets/datasets/train/negative/00002071_000.png  \n",
            "  inflating: datasets/datasets/train/negative/00002086_000.png  \n",
            "  inflating: datasets/datasets/train/negative/00002091_000.png  \n",
            "  inflating: datasets/datasets/train/negative/00002094_002.png  \n",
            "  inflating: datasets/datasets/train/negative/00002102_000.png  \n",
            "  inflating: datasets/datasets/train/negative/00002104_006.png  \n",
            "  inflating: datasets/datasets/train/negative/00002117_005.png  \n",
            "  inflating: datasets/datasets/train/negative/00002117_011.png  \n",
            "  inflating: datasets/datasets/train/negative/00002120_007.png  \n",
            "  inflating: datasets/datasets/train/negative/00002154_000.png  \n",
            "  inflating: datasets/datasets/train/negative/00002184_002.png  \n",
            "  inflating: datasets/datasets/train/negative/00002194_002.png  \n",
            "  inflating: datasets/datasets/train/negative/00002194_003.png  \n",
            "  inflating: datasets/datasets/train/negative/00002195_002.png  \n",
            "  inflating: datasets/datasets/train/negative/00002215_002.png  \n",
            "  inflating: datasets/datasets/train/negative/00002218_003.png  \n",
            "  inflating: datasets/datasets/train/negative/00002219_008.png  \n",
            "  inflating: datasets/datasets/train/negative/00002229_003.png  \n",
            "  inflating: datasets/datasets/train/negative/00002229_004.png  \n",
            "  inflating: datasets/datasets/train/negative/00002233_000.png  \n",
            "  inflating: datasets/datasets/train/negative/00002237_000.png  \n",
            "  inflating: datasets/datasets/train/negative/00002239_004.png  \n",
            "  inflating: datasets/datasets/train/negative/00002250_002.png  \n",
            "  inflating: datasets/datasets/train/negative/00002262_006.png  \n",
            "  inflating: datasets/datasets/train/negative/00002262_007.png  \n",
            "  inflating: datasets/datasets/train/negative/00002262_010.png  \n",
            "  inflating: datasets/datasets/train/negative/00002288_010.png  \n",
            "  inflating: datasets/datasets/train/negative/00002301_000.png  \n",
            "  inflating: datasets/datasets/train/negative/00002311_002.png  \n",
            "  inflating: datasets/datasets/train/negative/00002339_011.png  \n",
            "  inflating: datasets/datasets/train/negative/00002339_012.png  \n",
            "  inflating: datasets/datasets/train/negative/00002344_002.png  \n",
            "  inflating: datasets/datasets/train/negative/00002344_007.png  \n",
            "  inflating: datasets/datasets/train/negative/00002344_008.png  \n",
            "  inflating: datasets/datasets/train/negative/00002356_005.png  \n",
            "  inflating: datasets/datasets/train/negative/00002366_001.png  \n",
            "  inflating: datasets/datasets/train/negative/00002371_010.png  \n",
            "  inflating: datasets/datasets/train/negative/00002371_012.png  \n",
            "  inflating: datasets/datasets/train/negative/00002376_001.png  \n",
            "  inflating: datasets/datasets/train/negative/00002380_002.png  \n",
            "  inflating: datasets/datasets/train/negative/00002381_004.png  \n",
            "  inflating: datasets/datasets/train/negative/00002381_005.png  \n",
            "  inflating: datasets/datasets/train/negative/00002429_000.png  \n",
            "  inflating: datasets/datasets/train/negative/00002442_001.png  \n",
            "  inflating: datasets/datasets/train/negative/00002451_005.png  \n",
            "  inflating: datasets/datasets/train/negative/00002452_000.png  \n",
            "  inflating: datasets/datasets/train/negative/00002457_003.png  \n",
            "  inflating: datasets/datasets/train/negative/00002457_011.png  \n",
            "  inflating: datasets/datasets/train/negative/00002457_013.png  \n",
            "  inflating: datasets/datasets/train/negative/00002464_001.png  \n",
            "  inflating: datasets/datasets/train/negative/00002474_006.png  \n",
            "  inflating: datasets/datasets/train/negative/00002482_001.png  \n",
            "  inflating: datasets/datasets/train/negative/00002491_012.png  \n",
            "  inflating: datasets/datasets/train/negative/00002497_000.png  \n",
            "  inflating: datasets/datasets/train/negative/00002505_002.png  \n",
            "  inflating: datasets/datasets/train/negative/00002540_001.png  \n",
            "  inflating: datasets/datasets/train/negative/00002545_001.png  \n",
            "  inflating: datasets/datasets/train/negative/00002549_003.png  \n",
            "  inflating: datasets/datasets/train/negative/00002549_005.png  \n",
            "  inflating: datasets/datasets/train/negative/00002550_000.png  \n",
            "  inflating: datasets/datasets/train/negative/00002555_000.png  \n",
            "  inflating: datasets/datasets/train/negative/00002556_000.png  \n",
            "  inflating: datasets/datasets/train/negative/00002572_000.png  \n",
            "  inflating: datasets/datasets/train/negative/00002572_003.png  \n",
            "  inflating: datasets/datasets/train/negative/00002572_004.png  \n",
            "  inflating: datasets/datasets/train/negative/00002572_005.png  \n",
            "  inflating: datasets/datasets/train/negative/00002576_008.png  \n",
            "  inflating: datasets/datasets/train/negative/00002577_000.png  \n",
            "  inflating: datasets/datasets/train/negative/00002582_001.png  \n",
            "  inflating: datasets/datasets/train/negative/00002582_005.png  \n",
            "  inflating: datasets/datasets/train/negative/00002582_006.png  \n",
            "  inflating: datasets/datasets/train/negative/00002582_008.png  \n",
            "  inflating: datasets/datasets/train/negative/00002594_000.png  \n",
            "  inflating: datasets/datasets/train/negative/00002594_007.png  \n",
            "  inflating: datasets/datasets/train/negative/00002633_005.png  \n",
            "  inflating: datasets/datasets/train/negative/00002633_011.png  \n",
            "  inflating: datasets/datasets/train/negative/00002633_021.png  \n",
            "  inflating: datasets/datasets/train/negative/00002633_030.png  \n",
            "  inflating: datasets/datasets/train/negative/00002644_000.png  \n",
            "  inflating: datasets/datasets/train/negative/00002645_002.png  \n",
            "  inflating: datasets/datasets/train/negative/00002649_008.png  \n",
            "  inflating: datasets/datasets/train/negative/00002658_001.png  \n",
            "  inflating: datasets/datasets/train/negative/00002658_002.png  \n",
            "  inflating: datasets/datasets/train/negative/00002659_001.png  \n",
            "  inflating: datasets/datasets/train/negative/00002670_000.png  \n",
            "  inflating: datasets/datasets/train/negative/00002673_002.png  \n",
            "  inflating: datasets/datasets/train/negative/00002673_004.png  \n",
            "  inflating: datasets/datasets/train/negative/00002673_010.png  \n",
            "  inflating: datasets/datasets/train/negative/00002673_019.png  \n",
            "  inflating: datasets/datasets/train/negative/00002678_004.png  \n",
            "  inflating: datasets/datasets/train/negative/00002678_005.png  \n",
            "  inflating: datasets/datasets/train/negative/00002678_006.png  \n",
            "  inflating: datasets/datasets/train/negative/00002679_000.png  \n",
            "  inflating: datasets/datasets/train/negative/00002720_024.png  \n",
            "  inflating: datasets/datasets/train/negative/00002726_001.png  \n",
            "  inflating: datasets/datasets/train/negative/00002728_003.png  \n",
            "  inflating: datasets/datasets/train/negative/00002735_001.png  \n",
            "  inflating: datasets/datasets/train/negative/00002735_002.png  \n",
            "  inflating: datasets/datasets/train/negative/00002754_000.png  \n",
            "  inflating: datasets/datasets/train/negative/00002790_003.png  \n",
            "  inflating: datasets/datasets/train/negative/00002806_003.png  \n",
            "  inflating: datasets/datasets/train/negative/00002811_000.png  \n",
            "  inflating: datasets/datasets/train/negative/00002812_000.png  \n",
            "  inflating: datasets/datasets/train/negative/00002812_001.png  \n",
            "  inflating: datasets/datasets/train/negative/00002817_010.png  \n",
            "  inflating: datasets/datasets/train/negative/00002819_000.png  \n",
            "  inflating: datasets/datasets/train/negative/00002827_001.png  \n",
            "  inflating: datasets/datasets/train/negative/00002830_000.png  \n",
            "  inflating: datasets/datasets/train/negative/00002843_019.png  \n",
            "  inflating: datasets/datasets/train/negative/00002846_011.png  \n",
            "  inflating: datasets/datasets/train/negative/00002852_000.png  \n",
            "  inflating: datasets/datasets/train/negative/00002860_002.png  \n",
            "  inflating: datasets/datasets/train/negative/00002860_021.png  \n",
            "  inflating: datasets/datasets/train/negative/00002860_024.png  \n",
            "  inflating: datasets/datasets/train/negative/00002863_003.png  \n",
            "  inflating: datasets/datasets/train/negative/00002904_000.png  \n",
            "  inflating: datasets/datasets/train/negative/00002915_002.png  \n",
            "  inflating: datasets/datasets/train/negative/00002921_000.png  \n",
            "  inflating: datasets/datasets/train/negative/00002922_000.png  \n",
            "  inflating: datasets/datasets/train/negative/00002933_000.png  \n",
            "  inflating: datasets/datasets/train/negative/00002933_001.png  \n",
            "  inflating: datasets/datasets/train/negative/00002939_002.png  \n",
            "  inflating: datasets/datasets/train/negative/00002946_000.png  \n",
            "  inflating: datasets/datasets/train/negative/00002949_000.png  \n",
            "  inflating: datasets/datasets/train/negative/00002954_007.png  \n",
            "  inflating: datasets/datasets/train/negative/00002981_006.png  \n",
            "  inflating: datasets/datasets/train/negative/00002993_001.png  \n",
            "  inflating: datasets/datasets/train/negative/00003002_014.png  \n",
            "  inflating: datasets/datasets/train/negative/00003005_002.png  \n",
            "  inflating: datasets/datasets/train/negative/00003005_012.png  \n",
            "  inflating: datasets/datasets/train/negative/00003005_013.png  \n",
            "  inflating: datasets/datasets/train/negative/00003005_019.png  \n",
            "  inflating: datasets/datasets/train/negative/00003005_022.png  \n",
            "  inflating: datasets/datasets/train/negative/00003006_001.png  \n",
            "  inflating: datasets/datasets/train/negative/00003024_001.png  \n",
            "  inflating: datasets/datasets/train/negative/00003040_000.png  \n",
            "  inflating: datasets/datasets/train/negative/00003043_000.png  \n",
            "  inflating: datasets/datasets/train/negative/00003053_001.png  \n",
            "  inflating: datasets/datasets/train/negative/00003080_000.png  \n",
            "  inflating: datasets/datasets/train/negative/00003097_003.png  \n",
            "  inflating: datasets/datasets/train/negative/00003098_001.png  \n",
            "  inflating: datasets/datasets/train/negative/00003098_010.png  \n",
            "  inflating: datasets/datasets/train/negative/00003098_014.png  \n",
            "  inflating: datasets/datasets/train/negative/00003120_000.png  \n",
            "  inflating: datasets/datasets/train/negative/00003126_019.png  \n",
            "  inflating: datasets/datasets/train/negative/00003126_021.png  \n",
            "  inflating: datasets/datasets/train/negative/00003129_008.png  \n",
            "  inflating: datasets/datasets/train/negative/00003130_004.png  \n",
            "  inflating: datasets/datasets/train/negative/00003137_001.png  \n",
            "  inflating: datasets/datasets/train/negative/00003140_001.png  \n",
            "  inflating: datasets/datasets/train/negative/00003140_003.png  \n",
            "  inflating: datasets/datasets/train/negative/00003140_004.png  \n",
            "  inflating: datasets/datasets/train/negative/00003140_005.png  \n",
            "  inflating: datasets/datasets/train/negative/00003140_006.png  \n",
            "  inflating: datasets/datasets/train/negative/00003140_007.png  \n",
            "  inflating: datasets/datasets/train/negative/00003140_008.png  \n",
            "  inflating: datasets/datasets/train/negative/00003140_010.png  \n",
            "  inflating: datasets/datasets/train/negative/00003140_014.png  \n",
            "  inflating: datasets/datasets/train/negative/00003140_015.png  \n",
            "  inflating: datasets/datasets/train/negative/00003140_016.png  \n",
            "  inflating: datasets/datasets/train/negative/00003140_017.png  \n",
            "  inflating: datasets/datasets/train/negative/00003150_000.png  \n",
            "  inflating: datasets/datasets/train/negative/00003158_001.png  \n",
            "  inflating: datasets/datasets/train/negative/00003158_002.png  \n",
            "  inflating: datasets/datasets/train/negative/00003161_003.png  \n",
            "  inflating: datasets/datasets/train/negative/00003176_001.png  \n",
            "  inflating: datasets/datasets/train/negative/00003176_002.png  \n",
            "  inflating: datasets/datasets/train/negative/00003178_000.png  \n",
            "  inflating: datasets/datasets/train/negative/00003190_013.png  \n",
            "  inflating: datasets/datasets/train/negative/00003190_014.png  \n",
            "  inflating: datasets/datasets/train/negative/00003190_015.png  \n",
            "  inflating: datasets/datasets/train/negative/00003198_005.png  \n",
            "  inflating: datasets/datasets/train/negative/00003209_001.png  \n",
            "  inflating: datasets/datasets/train/negative/00003211_004.png  \n",
            "  inflating: datasets/datasets/train/negative/00003226_004.png  \n",
            "  inflating: datasets/datasets/train/negative/00003230_006.png  \n",
            "  inflating: datasets/datasets/train/negative/00003248_001.png  \n",
            "  inflating: datasets/datasets/train/negative/00003248_003.png  \n",
            "  inflating: datasets/datasets/train/negative/00003249_002.png  \n",
            "  inflating: datasets/datasets/train/negative/00003259_000.png  \n",
            "  inflating: datasets/datasets/train/negative/00003259_001.png  \n",
            "  inflating: datasets/datasets/train/negative/00003263_001.png  \n",
            "  inflating: datasets/datasets/train/negative/00003264_000.png  \n",
            "  inflating: datasets/datasets/train/negative/00003264_004.png  \n",
            "  inflating: datasets/datasets/train/negative/00003275_005.png  \n",
            "  inflating: datasets/datasets/train/negative/00003276_000.png  \n",
            "  inflating: datasets/datasets/train/negative/00003291_001.png  \n",
            "  inflating: datasets/datasets/train/negative/00003292_002.png  \n",
            "  inflating: datasets/datasets/train/negative/00003310_000.png  \n",
            "  inflating: datasets/datasets/train/negative/00003324_000.png  \n",
            "  inflating: datasets/datasets/train/negative/00003324_001.png  \n",
            "  inflating: datasets/datasets/train/negative/00003330_003.png  \n",
            "  inflating: datasets/datasets/train/negative/00003330_005.png  \n",
            "  inflating: datasets/datasets/train/negative/00003331_000.png  \n",
            "  inflating: datasets/datasets/train/negative/00003353_003.png  \n",
            "  inflating: datasets/datasets/train/negative/00003353_004.png  \n",
            "  inflating: datasets/datasets/train/negative/00003353_005.png  \n",
            "  inflating: datasets/datasets/train/negative/00003353_006.png  \n",
            "  inflating: datasets/datasets/train/negative/00003354_002.png  \n",
            "  inflating: datasets/datasets/train/negative/00003356_000.png  \n",
            "  inflating: datasets/datasets/train/negative/00003361_004.png  \n",
            "  inflating: datasets/datasets/train/negative/00003361_008.png  \n",
            "  inflating: datasets/datasets/train/negative/00003361_012.png  \n",
            "  inflating: datasets/datasets/train/negative/00003363_001.png  \n",
            "  inflating: datasets/datasets/train/negative/00003363_002.png  \n",
            "  inflating: datasets/datasets/train/negative/00003366_002.png  \n",
            "  inflating: datasets/datasets/train/negative/00003367_003.png  \n",
            "  inflating: datasets/datasets/train/negative/00003369_013.png  \n",
            "  inflating: datasets/datasets/train/negative/00003370_001.png  \n",
            "  inflating: datasets/datasets/train/negative/00003382_009.png  \n",
            "  inflating: datasets/datasets/train/negative/00003384_000.png  \n",
            "  inflating: datasets/datasets/train/negative/00003392_004.png  \n",
            "  inflating: datasets/datasets/train/negative/00003392_007.png  \n",
            "  inflating: datasets/datasets/train/negative/00003392_018.png  \n",
            "  inflating: datasets/datasets/train/negative/00003392_019.png  \n",
            "  inflating: datasets/datasets/train/negative/00003392_021.png  \n",
            "  inflating: datasets/datasets/train/negative/00003392_031.png  \n",
            "  inflating: datasets/datasets/train/negative/00003393_030.png  \n",
            "  inflating: datasets/datasets/train/negative/00003395_003.png  \n",
            "  inflating: datasets/datasets/train/negative/00003407_005.png  \n",
            "  inflating: datasets/datasets/train/negative/00003412_000.png  \n",
            "  inflating: datasets/datasets/train/negative/00003415_000.png  \n",
            "  inflating: datasets/datasets/train/negative/00003417_000.png  \n",
            "  inflating: datasets/datasets/train/negative/00003418_000.png  \n",
            "  inflating: datasets/datasets/train/negative/00003421_004.png  \n",
            "  inflating: datasets/datasets/train/negative/00003426_008.png  \n",
            "  inflating: datasets/datasets/train/negative/00003426_014.png  \n",
            "  inflating: datasets/datasets/train/negative/00003426_015.png  \n",
            "  inflating: datasets/datasets/train/negative/00003426_016.png  \n",
            "  inflating: datasets/datasets/train/negative/00003426_018.png  \n",
            "  inflating: datasets/datasets/train/negative/00003428_002.png  \n",
            "  inflating: datasets/datasets/train/negative/00003437_000.png  \n",
            "  inflating: datasets/datasets/train/negative/00003438_000.png  \n",
            "  inflating: datasets/datasets/train/negative/00003441_000.png  \n",
            "  inflating: datasets/datasets/train/negative/00003442_000.png  \n",
            "  inflating: datasets/datasets/train/negative/00003447_001.png  \n",
            "  inflating: datasets/datasets/train/negative/00003448_000.png  \n",
            "  inflating: datasets/datasets/train/negative/00003453_000.png  \n",
            "  inflating: datasets/datasets/train/negative/00003459_015.png  \n",
            "  inflating: datasets/datasets/train/negative/00003461_000.png  \n",
            "  inflating: datasets/datasets/train/negative/00003463_001.png  \n",
            "  inflating: datasets/datasets/train/negative/00003468_006.png  \n",
            "  inflating: datasets/datasets/train/negative/00003478_000.png  \n",
            "  inflating: datasets/datasets/train/negative/00003478_002.png  \n",
            "  inflating: datasets/datasets/train/negative/00003478_003.png  \n",
            "  inflating: datasets/datasets/train/negative/00003478_004.png  \n",
            "  inflating: datasets/datasets/train/negative/00003478_005.png  \n",
            "  inflating: datasets/datasets/train/negative/00003490_008.png  \n",
            "  inflating: datasets/datasets/train/negative/00003490_010.png  \n",
            "  inflating: datasets/datasets/train/negative/00003490_011.png  \n",
            "  inflating: datasets/datasets/train/negative/00003490_012.png  \n",
            "  inflating: datasets/datasets/train/negative/00003490_013.png  \n",
            "  inflating: datasets/datasets/train/negative/00003497_000.png  \n",
            "  inflating: datasets/datasets/train/negative/00003497_001.png  \n",
            "  inflating: datasets/datasets/train/negative/00003507_000.png  \n",
            "  inflating: datasets/datasets/train/negative/00003510_003.png  \n",
            "  inflating: datasets/datasets/train/negative/00003510_007.png  \n",
            "  inflating: datasets/datasets/train/negative/00003510_015.png  \n",
            "  inflating: datasets/datasets/train/negative/00003517_000.png  \n",
            "  inflating: datasets/datasets/train/negative/00003518_000.png  \n",
            "  inflating: datasets/datasets/train/negative/00003535_019.png  \n",
            "  inflating: datasets/datasets/train/negative/00003535_020.png  \n",
            "  inflating: datasets/datasets/train/negative/00003535_021.png  \n",
            "  inflating: datasets/datasets/train/negative/00003539_003.png  \n",
            "  inflating: datasets/datasets/train/negative/00003541_000.png  \n",
            "  inflating: datasets/datasets/train/negative/00003552_004.png  \n",
            "  inflating: datasets/datasets/train/negative/00003552_005.png  \n",
            "  inflating: datasets/datasets/train/negative/00003560_001.png  \n",
            "  inflating: datasets/datasets/train/negative/00003562_001.png  \n",
            "  inflating: datasets/datasets/train/negative/00003564_000.png  \n",
            "  inflating: datasets/datasets/train/negative/00003570_003.png  \n",
            "  inflating: datasets/datasets/train/negative/00003571_000.png  \n",
            "  inflating: datasets/datasets/train/negative/00003572_000.png  \n",
            "  inflating: datasets/datasets/train/negative/00003574_006.png  \n",
            "  inflating: datasets/datasets/train/negative/00003580_000.png  \n",
            "  inflating: datasets/datasets/train/negative/00003580_001.png  \n",
            "  inflating: datasets/datasets/train/negative/00003580_002.png  \n",
            "  inflating: datasets/datasets/train/negative/00003601_006.png  \n",
            "  inflating: datasets/datasets/train/negative/00003601_007.png  \n",
            "  inflating: datasets/datasets/train/negative/00003611_007.png  \n",
            "  inflating: datasets/datasets/train/negative/00003623_000.png  \n",
            "  inflating: datasets/datasets/train/negative/00003628_000.png  \n",
            "  inflating: datasets/datasets/train/negative/00003628_002.png  \n",
            "  inflating: datasets/datasets/train/negative/00003646_001.png  \n",
            "  inflating: datasets/datasets/train/negative/00003647_001.png  \n",
            "  inflating: datasets/datasets/train/negative/00003661_000.png  \n",
            "  inflating: datasets/datasets/train/negative/00003672_002.png  \n",
            "  inflating: datasets/datasets/train/negative/00003680_000.png  \n",
            "  inflating: datasets/datasets/train/negative/00003689_010.png  \n",
            "  inflating: datasets/datasets/train/negative/00003693_006.png  \n",
            "  inflating: datasets/datasets/train/negative/00003693_007.png  \n",
            "  inflating: datasets/datasets/train/negative/00003698_000.png  \n",
            "  inflating: datasets/datasets/train/negative/00003707_000.png  \n",
            "  inflating: datasets/datasets/train/negative/00003709_007.png  \n",
            "  inflating: datasets/datasets/train/negative/00003726_002.png  \n",
            "  inflating: datasets/datasets/train/negative/00003741_002.png  \n",
            "  inflating: datasets/datasets/train/negative/00003742_001.png  \n",
            "  inflating: datasets/datasets/train/negative/00003748_000.png  \n",
            "  inflating: datasets/datasets/train/negative/00003750_003.png  \n",
            "  inflating: datasets/datasets/train/negative/00003758_005.png  \n",
            "  inflating: datasets/datasets/train/negative/00003759_001.png  \n",
            "  inflating: datasets/datasets/train/negative/00003759_002.png  \n",
            "  inflating: datasets/datasets/train/negative/00003771_003.png  \n",
            "  inflating: datasets/datasets/train/negative/00003773_000.png  \n",
            "  inflating: datasets/datasets/train/negative/00003779_005.png  \n",
            "  inflating: datasets/datasets/train/negative/00003806_001.png  \n",
            "  inflating: datasets/datasets/train/negative/00003828_000.png  \n",
            "  inflating: datasets/datasets/train/negative/00003837_004.png  \n",
            "  inflating: datasets/datasets/train/negative/00003847_004.png  \n",
            "  inflating: datasets/datasets/train/negative/00003847_005.png  \n",
            "  inflating: datasets/datasets/train/negative/00003847_010.png  \n",
            "  inflating: datasets/datasets/train/negative/00003847_011.png  \n",
            "  inflating: datasets/datasets/train/negative/00003847_012.png  \n",
            "  inflating: datasets/datasets/train/negative/00003849_000.png  \n",
            "  inflating: datasets/datasets/train/negative/00003867_004.png  \n",
            "  inflating: datasets/datasets/train/negative/00003872_001.png  \n",
            "  inflating: datasets/datasets/train/negative/00003872_002.png  \n",
            "  inflating: datasets/datasets/train/negative/00003875_007.png  \n",
            "  inflating: datasets/datasets/train/negative/00003882_007.png  \n",
            "  inflating: datasets/datasets/train/negative/00003895_000.png  \n",
            "  inflating: datasets/datasets/train/negative/00003896_003.png  \n",
            "  inflating: datasets/datasets/train/negative/00003896_006.png  \n",
            "  inflating: datasets/datasets/train/negative/00003908_000.png  \n",
            "  inflating: datasets/datasets/train/negative/00003914_001.png  \n",
            "  inflating: datasets/datasets/train/negative/00003930_000.png  \n",
            "  inflating: datasets/datasets/train/negative/00003956_001.png  \n",
            "  inflating: datasets/datasets/train/negative/00003966_000.png  \n",
            "  inflating: datasets/datasets/train/negative/00003970_002.png  \n",
            "  inflating: datasets/datasets/train/negative/IM-0009-0001.jpeg  \n",
            "  inflating: datasets/datasets/train/negative/IM-0010-0001.jpeg  \n",
            "  inflating: datasets/datasets/train/negative/IM-0011-0001-0001.jpeg  \n",
            "  inflating: datasets/datasets/train/negative/IM-0016-0001.jpeg  \n",
            "  inflating: datasets/datasets/train/negative/IM-0023-0001.jpeg  \n",
            "  inflating: datasets/datasets/train/negative/IM-0025-0001.jpeg  \n",
            "  inflating: datasets/datasets/train/negative/IM-0028-0001.jpeg  \n",
            "  inflating: datasets/datasets/train/negative/IM-0031-0001.jpeg  \n",
            "  inflating: datasets/datasets/train/negative/IM-0037-0001.jpeg  \n",
            "  inflating: datasets/datasets/train/negative/IM-0046-0001.jpeg  \n",
            "  inflating: datasets/datasets/train/negative/IM-0059-0001.jpeg  \n",
            "  inflating: datasets/datasets/train/negative/IM-0067-0001.jpeg  \n",
            "  inflating: datasets/datasets/train/negative/IM-0073-0001.jpeg  \n",
            "  inflating: datasets/datasets/train/negative/IM-0075-0001.jpeg  \n",
            "  inflating: datasets/datasets/train/negative/IM-0084-0001.jpeg  \n",
            "  inflating: datasets/datasets/train/negative/NORMAL2-IM-0012-0001.jpeg  \n",
            "  inflating: datasets/datasets/train/negative/NORMAL2-IM-0019-0001.jpeg  \n",
            "  inflating: datasets/datasets/train/negative/NORMAL2-IM-0027-0001.jpeg  \n",
            "  inflating: datasets/datasets/train/negative/NORMAL2-IM-0033-0001.jpeg  \n",
            "  inflating: datasets/datasets/train/negative/NORMAL2-IM-0102-0001.jpeg  \n",
            "  inflating: datasets/datasets/train/negative/NORMAL2-IM-0110-0001.jpeg  \n",
            "  inflating: datasets/datasets/train/negative/NORMAL2-IM-0123-0001.jpeg  \n",
            "  inflating: datasets/datasets/train/negative/NORMAL2-IM-0131-0001.jpeg  \n",
            "  inflating: datasets/datasets/train/negative/NORMAL2-IM-0146-0001.jpeg  \n",
            "  inflating: datasets/datasets/train/negative/NORMAL2-IM-0173-0001-0002.jpeg  \n",
            "  inflating: datasets/datasets/train/negative/NORMAL2-IM-0196-0001.jpeg  \n",
            "  inflating: datasets/datasets/train/negative/NORMAL2-IM-0222-0001.jpeg  \n",
            "  inflating: datasets/datasets/train/negative/NORMAL2-IM-0229-0001.jpeg  \n",
            "  inflating: datasets/datasets/train/negative/NORMAL2-IM-0241-0001.jpeg  \n",
            "  inflating: datasets/datasets/train/negative/NORMAL2-IM-0246-0001-0002.jpeg  \n",
            "  inflating: datasets/datasets/train/negative/NORMAL2-IM-0272-0001.jpeg  \n",
            "  inflating: datasets/datasets/train/negative/NORMAL2-IM-0274-0001.jpeg  \n",
            "  inflating: datasets/datasets/train/negative/NORMAL2-IM-0283-0001.jpeg  \n",
            "  inflating: datasets/datasets/train/negative/NORMAL2-IM-0288-0001.jpeg  \n",
            "  inflating: datasets/datasets/train/negative/NORMAL2-IM-0297-0001.jpeg  \n",
            "  inflating: datasets/datasets/train/negative/NORMAL2-IM-0301-0001.jpeg  \n",
            "  inflating: datasets/datasets/train/negative/NORMAL2-IM-0307-0001.jpeg  \n",
            "  inflating: datasets/datasets/train/negative/NORMAL2-IM-0313-0001.jpeg  \n",
            "  inflating: datasets/datasets/train/negative/NORMAL2-IM-0315-0001.jpeg  \n",
            "  inflating: datasets/datasets/train/negative/NORMAL2-IM-0326-0001.jpeg  \n",
            "  inflating: datasets/datasets/train/negative/NORMAL2-IM-0332-0001.jpeg  \n",
            "  inflating: datasets/datasets/train/negative/NORMAL2-IM-0339-0001.jpeg  \n",
            "  inflating: datasets/datasets/train/negative/NORMAL2-IM-0343-0001.jpeg  \n",
            "  inflating: datasets/datasets/train/negative/NORMAL2-IM-0348-0001.jpeg  \n",
            "  inflating: datasets/datasets/train/negative/NORMAL2-IM-0357-0001.jpeg  \n",
            "  inflating: datasets/datasets/train/negative/NORMAL2-IM-0362-0001.jpeg  \n",
            "  inflating: datasets/datasets/train/negative/NORMAL2-IM-0364-0001.jpeg  \n",
            "  inflating: datasets/datasets/train/negative/NORMAL2-IM-0369-0001.jpeg  \n",
            "  inflating: datasets/datasets/train/negative/NORMAL2-IM-0370-0001.jpeg  \n",
            "  inflating: datasets/datasets/train/negative/NORMAL2-IM-0376-0001.jpeg  \n",
            "  inflating: datasets/datasets/train/negative/NORMAL2-IM-0381-0001.jpeg  \n",
            "  inflating: datasets/datasets/train/positive/01E392EE-69F9-4E33-BFCE-E5C968654078.jpeg  \n",
            "  inflating: datasets/datasets/train/positive/03BF7561-A9BA-4C3C-B8A0-D3E585F73F3C.jpeg  \n",
            "  inflating: datasets/datasets/train/positive/1-s2.0-S0140673620303706-fx1_lrg.jpg  \n",
            "  inflating: datasets/datasets/train/positive/1-s2.0-S0929664620300449-gr2_lrg-a.jpg  \n",
            "  inflating: datasets/datasets/train/positive/1-s2.0-S0929664620300449-gr2_lrg-b.jpg  \n",
            "  inflating: datasets/datasets/train/positive/1-s2.0-S0929664620300449-gr2_lrg-c.jpg  \n",
            "  inflating: datasets/datasets/train/positive/1-s2.0-S0929664620300449-gr2_lrg-d.jpg  \n",
            "  inflating: datasets/datasets/train/positive/1-s2.0-S1684118220300608-main.pdf-001.jpg  \n",
            "  inflating: datasets/datasets/train/positive/1-s2.0-S1684118220300608-main.pdf-002.jpg  \n",
            "  inflating: datasets/datasets/train/positive/1-s2.0-S1684118220300682-main.pdf-002-a1.png  \n",
            "  inflating: datasets/datasets/train/positive/1-s2.0-S1684118220300682-main.pdf-002-a2.png  \n",
            "  inflating: datasets/datasets/train/positive/1-s2.0-S1684118220300682-main.pdf-003-b1.png  \n",
            "  inflating: datasets/datasets/train/positive/1-s2.0-S1684118220300682-main.pdf-003-b2.png  \n",
            "  inflating: datasets/datasets/train/positive/1.CXRCTThoraximagesofCOVID-19fromSingapore.pdf-000-fig1a.png  \n",
            "  inflating: datasets/datasets/train/positive/1.CXRCTThoraximagesofCOVID-19fromSingapore.pdf-000-fig1b.png  \n",
            "  inflating: datasets/datasets/train/positive/1.CXRCTThoraximagesofCOVID-19fromSingapore.pdf-001-fig2a.png  \n",
            "  inflating: datasets/datasets/train/positive/1.CXRCTThoraximagesofCOVID-19fromSingapore.pdf-001-fig2b.png  \n",
            "  inflating: datasets/datasets/train/positive/1.CXRCTThoraximagesofCOVID-19fromSingapore.pdf-002-fig3a.png  \n",
            "  inflating: datasets/datasets/train/positive/1.CXRCTThoraximagesofCOVID-19fromSingapore.pdf-002-fig3b.png  \n",
            "  inflating: datasets/datasets/train/positive/1.CXRCTThoraximagesofCOVID-19fromSingapore.pdf-003-fig4a.png  \n",
            "  inflating: datasets/datasets/train/positive/1.CXRCTThoraximagesofCOVID-19fromSingapore.pdf-003-fig4b.png  \n",
            "  inflating: datasets/datasets/train/positive/1312A392-67A3-4EBF-9319-810CF6DA5EF6.jpeg  \n",
            "  inflating: datasets/datasets/train/positive/171CB377-62FF-4B76-906C-F3787A01CB2E.jpeg  \n",
            "  inflating: datasets/datasets/train/positive/1B734A89-A1BF-49A8-A1D3-66FAFA4FAC5D.jpeg  \n",
            "  inflating: datasets/datasets/train/positive/1F6343EE-AFEC-4B7D-97F5-62797EE18767.jpeg  \n",
            "  inflating: datasets/datasets/train/positive/23E99E2E-447C-46E5-8EB2-D35D12473C39.png  \n",
            "  inflating: datasets/datasets/train/positive/2966893D-5DDF-4B68-9E2B-4979D5956C8E.jpeg  \n",
            "  inflating: datasets/datasets/train/positive/2B8649B2-00C4-4233-85D5-1CE240CF233B.jpeg  \n",
            "  inflating: datasets/datasets/train/positive/2C10A413-AABE-4807-8CCE-6A2025594067.jpeg  \n",
            "  inflating: datasets/datasets/train/positive/2C26F453-AF3B-4517-BB9E-802CF2179543.jpeg  \n",
            "  inflating: datasets/datasets/train/positive/31BA3780-2323-493F-8AED-62081B9C383B.jpeg  \n",
            "  inflating: datasets/datasets/train/positive/353889E0-A1E8-4F9E-A0B8-F24F36BCFBFB.jpeg  \n",
            "  inflating: datasets/datasets/train/positive/39EE8E69-5801-48DE-B6E3-BE7D1BCF3092.jpeg  \n",
            "  inflating: datasets/datasets/train/positive/41591_2020_819_Fig1_HTML.webp-day10.png  \n",
            "  inflating: datasets/datasets/train/positive/41591_2020_819_Fig1_HTML.webp-day5.png  \n",
            "  inflating: datasets/datasets/train/positive/446B2CB6-B572-40AB-B01F-1910CA07086A.jpeg  \n",
            "  inflating: datasets/datasets/train/positive/53EC07C9-5CC6-4BE4-9B6F-D7B0D72AAA7E.jpeg  \n",
            "  inflating: datasets/datasets/train/positive/58cb9263f16e94305c730685358e4e_jumbo.jpeg  \n",
            "  inflating: datasets/datasets/train/positive/5931B64A-7B97-485D-BE60-3F1EA76BC4F0.jpeg  \n",
            "  inflating: datasets/datasets/train/positive/5A78BCA9-5B7A-440D-8A4E-AE7710EA6EAD.jpeg  \n",
            "  inflating: datasets/datasets/train/positive/5CBC2E94-D358-401E-8928-965CCD965C5C.jpeg  \n",
            "  inflating: datasets/datasets/train/positive/5e6dd879fde9502400e58b2f.jpeg  \n",
            "  inflating: datasets/datasets/train/positive/6C94A287-C059-46A0-8600-AFB95F4727B7.jpeg  \n",
            "  inflating: datasets/datasets/train/positive/6CB4EFC6-68FA-4CD5-940C-BEFA8DAFE9A7.jpeg  \n",
            "  inflating: datasets/datasets/train/positive/6b44464d-73a7-4cf3-bbb6-ffe7168300e3.annot.original.jpeg  \n",
            "  inflating: datasets/datasets/train/positive/7AF6C1AF-D249-4BD2-8C26-449304105D03.jpeg  \n",
            "  inflating: datasets/datasets/train/positive/7C69C012-7479-493F-8722-ABC29C60A2DD.jpeg  \n",
            "  inflating: datasets/datasets/train/positive/7D2CF6CE-F529-4470-8356-D33FFAF98600.jpeg  \n",
            "  inflating: datasets/datasets/train/positive/7E335538-2F86-424E-A0AB-6397783A38D0.jpeg  \n",
            "  inflating: datasets/datasets/train/positive/7EF28E12-F628-4BEC-A8C5-E6277C2E4F60.png  \n",
            "  inflating: datasets/datasets/train/positive/80446565-E090-4187-A031-9D3CEAA586C8.jpeg  \n",
            "  inflating: datasets/datasets/train/positive/85E52EB3-56E9-4D67-82DA-DEA247C82886.jpeg  \n",
            "  inflating: datasets/datasets/train/positive/8FDE8DBA-CFBD-4B4C-B1A4-6F36A93B7E87.jpeg  \n",
            "  inflating: datasets/datasets/train/positive/93FE0BB1-022D-4F24-9727-987A07975FFB.jpeg  \n",
            "  inflating: datasets/datasets/train/positive/9C34AF49-E589-44D5-92D3-168B3B04E4A6.jpeg  \n",
            "  inflating: datasets/datasets/train/positive/9fdd3c3032296fd04d2cad5d9070d4_jumbo.jpeg  \n",
            "  inflating: datasets/datasets/train/positive/B2D20576-00B7-4519-A415-72DE29C90C34.jpeg  \n",
            "  inflating: datasets/datasets/train/positive/B59DD164-51D5-40DF-A926-6A42DD52EBE8.jpeg  \n",
            "  inflating: datasets/datasets/train/positive/C6EA0BE5-B01E-4113-B194-18D956675E25.jpeg  \n",
            "  inflating: datasets/datasets/train/positive/CD50BA96-6982-4C80-AE7B-5F67ACDBFA56.jpeg  \n",
            "  inflating: datasets/datasets/train/positive/D7AF463C-2369-492D-908D-BE1911CCD74C.jpeg  \n",
            "  inflating: datasets/datasets/train/positive/E1724330-1866-4581-8CD8-CEC9B8AFEDDE.jpeg  \n",
            "  inflating: datasets/datasets/train/positive/E63574A7-4188-4C8D-8D17-9D67A18A1AFA.jpeg  \n",
            "  inflating: datasets/datasets/train/positive/F2DE909F-E19C-4900-92F5-8F435B031AC6.jpeg  \n",
            "  inflating: datasets/datasets/train/positive/F4341CE7-73C9-45C6-99C8-8567A5484B63.jpeg  \n",
            "  inflating: datasets/datasets/train/positive/F63AB6CE-1968-4154-A70F-913AF154F53D.jpeg  \n",
            "  inflating: datasets/datasets/train/positive/FE9F9A5D-2830-46F9-851B-1FF4534959BE.jpeg  \n",
            "  inflating: datasets/datasets/train/positive/all14238-fig-0001-m-b.jpg  \n",
            "  inflating: datasets/datasets/train/positive/all14238-fig-0001-m-c.jpg  \n",
            "  inflating: datasets/datasets/train/positive/all14238-fig-0002-m-d.jpg  \n",
            "  inflating: datasets/datasets/train/positive/all14238-fig-0002-m-e.jpg  \n",
            "  inflating: datasets/datasets/train/positive/all14238-fig-0002-m-f.jpg  \n",
            "  inflating: datasets/datasets/train/positive/auntminnie-a-2020_01_28_23_51_6665_2020_01_28_Vietnam_coronavirus.jpeg  \n",
            "  inflating: datasets/datasets/train/positive/auntminnie-b-2020_01_28_23_51_6665_2020_01_28_Vietnam_coronavirus.jpeg  \n",
            "  inflating: datasets/datasets/train/positive/auntminnie-c-2020_01_28_23_51_6665_2020_01_28_Vietnam_coronavirus.jpeg  \n",
            "  inflating: datasets/datasets/train/positive/auntminnie-d-2020_01_28_23_51_6665_2020_01_28_Vietnam_coronavirus.jpeg  \n",
            "  inflating: datasets/datasets/train/positive/ciaa199.pdf-001-a.png  \n",
            "  inflating: datasets/datasets/train/positive/ciaa199.pdf-001-b.png  \n",
            "  inflating: datasets/datasets/train/positive/ciaa199.pdf-001-c.png  \n",
            "  inflating: datasets/datasets/train/positive/covid-19-infection-exclusive-gastrointestinal-symptoms-pa.png  \n",
            "  inflating: datasets/datasets/train/positive/covid-19-pneumonia-12.jpg  \n",
            "  inflating: datasets/datasets/train/positive/covid-19-pneumonia-14-PA.png  \n",
            "  inflating: datasets/datasets/train/positive/covid-19-pneumonia-15-PA.jpg  \n",
            "  inflating: datasets/datasets/train/positive/covid-19-pneumonia-19.jpg  \n",
            "  inflating: datasets/datasets/train/positive/covid-19-pneumonia-2.jpg  \n",
            "  inflating: datasets/datasets/train/positive/covid-19-pneumonia-24-day12.jpg  \n",
            "  inflating: datasets/datasets/train/positive/covid-19-pneumonia-24-day6.jpg  \n",
            "  inflating: datasets/datasets/train/positive/covid-19-pneumonia-24-day7.jpg  \n",
            "  inflating: datasets/datasets/train/positive/covid-19-pneumonia-28.png  \n",
            "  inflating: datasets/datasets/train/positive/covid-19-pneumonia-30-PA.jpg  \n",
            "  inflating: datasets/datasets/train/positive/covid-19-pneumonia-7-PA.jpg  \n",
            "  inflating: datasets/datasets/train/positive/covid-19-pneumonia-evolution-over-a-week-1-day0-PA.jpg  \n",
            "  inflating: datasets/datasets/train/positive/covid-19-pneumonia-evolution-over-a-week-1-day3.jpg  \n",
            "  inflating: datasets/datasets/train/positive/covid-19-pneumonia-evolution-over-a-week-1-day4.jpg  \n",
            "  inflating: datasets/datasets/train/positive/covid-19-pneumonia-rapidly-progressive-12-hours.jpg  \n",
            "  inflating: datasets/datasets/train/positive/covid-19-pneumonia-rapidly-progressive-3-days.jpg  \n",
            "  inflating: datasets/datasets/train/positive/covid-19-pneumonia-rapidly-progressive-admission.jpg  \n",
            "  inflating: datasets/datasets/train/positive/covid-19-rapidly-progressive-acute-respiratory-distress-syndrome-ards-admission.jpg  \n",
            "  inflating: datasets/datasets/train/positive/covid-19-rapidly-progressive-acute-respiratory-distress-syndrome-ards-day-1.jpg  \n",
            "  inflating: datasets/datasets/train/positive/covid-19-rapidly-progressive-acute-respiratory-distress-syndrome-ards-day-2.jpg  \n",
            "  inflating: datasets/datasets/train/positive/figure1-5e71be566aa8714a04de3386-98-left.jpeg  \n",
            "  inflating: datasets/datasets/train/positive/figure1-5e73d7ae897e27ff066a30cb-98.jpeg  \n",
            "  inflating: datasets/datasets/train/positive/figure1-5e75d0940b71e1b702629659-98-right.jpeg  \n",
            "  inflating: datasets/datasets/train/positive/jkms-35-e79-g001-l-a.jpg  \n",
            "  inflating: datasets/datasets/train/positive/jkms-35-e79-g001-l-b.jpg  \n",
            "  inflating: datasets/datasets/train/positive/jkms-35-e79-g001-l-c.jpg  \n",
            "  inflating: datasets/datasets/train/positive/kjr-21-e24-g001-l-a.jpg  \n",
            "  inflating: datasets/datasets/train/positive/kjr-21-e24-g002-l-a.jpg  \n",
            "  inflating: datasets/datasets/train/positive/kjr-21-e24-g003-l-a.jpg  \n",
            "  inflating: datasets/datasets/train/positive/kjr-21-e25-g001-l-a.jpg  \n",
            "  inflating: datasets/datasets/train/positive/lancet-case2a.jpg  \n",
            "  inflating: datasets/datasets/train/positive/lancet-case2b.jpg  \n",
            "  inflating: datasets/datasets/train/positive/nCoV-radiol.2020200269.fig1-day7.jpeg  \n",
            "  inflating: datasets/datasets/train/positive/nejmc2001573_f1a.jpeg  \n",
            "  inflating: datasets/datasets/train/positive/nejmc2001573_f1b.jpeg  \n",
            "  inflating: datasets/datasets/train/positive/nejmoa2001191_f1-PA.jpeg  \n",
            "  inflating: datasets/datasets/train/positive/nejmoa2001191_f3-PA.jpeg  \n",
            "  inflating: datasets/datasets/train/positive/nejmoa2001191_f4.jpeg  \n",
            "  inflating: datasets/datasets/train/positive/nejmoa2001191_f5-PA.jpeg  \n",
            "  inflating: datasets/datasets/train/positive/radiol.2020200490.fig3.jpeg  \n",
            "  inflating: datasets/datasets/train/positive/ryct.2020200028.fig1a.jpeg  \n",
            "  inflating: datasets/datasets/train/positive/ryct.2020200034.fig2.jpeg  \n",
            "  inflating: datasets/datasets/train/positive/ryct.2020200034.fig5-day0.jpeg  \n",
            "  inflating: datasets/datasets/train/positive/ryct.2020200034.fig5-day4.jpeg  \n",
            "  inflating: datasets/datasets/train/positive/ryct.2020200034.fig5-day7.jpeg  \n",
            "  inflating: mini-dataset/dataset/covid/1-s2.0-S0140673620303706-fx1_lrg.jpg  \n",
            "  inflating: mini-dataset/dataset/covid/1-s2.0-S0929664620300449-gr2_lrg-a.jpg  \n",
            "  inflating: mini-dataset/dataset/covid/1-s2.0-S0929664620300449-gr2_lrg-b.jpg  \n",
            "  inflating: mini-dataset/dataset/covid/1-s2.0-S0929664620300449-gr2_lrg-c.jpg  \n",
            "  inflating: mini-dataset/dataset/covid/1-s2.0-S0929664620300449-gr2_lrg-d.jpg  \n",
            "  inflating: mini-dataset/dataset/covid/auntminnie-a-2020_01_28_23_51_6665_2020_01_28_Vietnam_coronavirus.jpeg  \n",
            "  inflating: mini-dataset/dataset/covid/auntminnie-b-2020_01_28_23_51_6665_2020_01_28_Vietnam_coronavirus.jpeg  \n",
            "  inflating: mini-dataset/dataset/covid/auntminnie-c-2020_01_28_23_51_6665_2020_01_28_Vietnam_coronavirus.jpeg  \n",
            "  inflating: mini-dataset/dataset/covid/auntminnie-d-2020_01_28_23_51_6665_2020_01_28_Vietnam_coronavirus.jpeg  \n",
            "  inflating: mini-dataset/dataset/covid/lancet-case2a.jpg  \n",
            "  inflating: mini-dataset/dataset/covid/lancet-case2b.jpg  \n",
            "  inflating: mini-dataset/dataset/covid/nCoV-radiol.2020200269.fig1-day7.jpeg  \n",
            "  inflating: mini-dataset/dataset/covid/nejmc2001573_f1a.jpeg  \n",
            "  inflating: mini-dataset/dataset/covid/nejmc2001573_f1b.jpeg  \n",
            "  inflating: mini-dataset/dataset/covid/nejmoa2001191_f1-PA.jpeg  \n",
            "  inflating: mini-dataset/dataset/covid/nejmoa2001191_f3-PA.jpeg  \n",
            "  inflating: mini-dataset/dataset/covid/nejmoa2001191_f4.jpeg  \n",
            "  inflating: mini-dataset/dataset/covid/nejmoa2001191_f5-PA.jpeg  \n",
            "  inflating: mini-dataset/dataset/covid/radiol.2020200490.fig3.jpeg  \n",
            "  inflating: mini-dataset/dataset/covid/radiopedia-covid-19-pneumonia-2.jpg  \n",
            "  inflating: mini-dataset/dataset/covid/ryct.2020200028.fig1a.jpeg  \n",
            "  inflating: mini-dataset/dataset/covid/ryct.2020200034.fig2.jpeg  \n",
            "  inflating: mini-dataset/dataset/covid/ryct.2020200034.fig5-day0.jpeg  \n",
            "  inflating: mini-dataset/dataset/covid/ryct.2020200034.fig5-day4.jpeg  \n",
            "  inflating: mini-dataset/dataset/covid/ryct.2020200034.fig5-day7.jpeg  \n",
            "  inflating: mini-dataset/dataset/normal/IM-0033-0001-0001.jpeg  \n",
            "  inflating: mini-dataset/dataset/normal/IM-0240-0001.jpeg  \n",
            "  inflating: mini-dataset/dataset/normal/IM-0466-0001.jpeg  \n",
            "  inflating: mini-dataset/dataset/normal/NORMAL2-IM-0315-0001.jpeg  \n",
            "  inflating: mini-dataset/dataset/normal/NORMAL2-IM-0696-0001.jpeg  \n",
            "  inflating: mini-dataset/dataset/normal/NORMAL2-IM-0869-0001.jpeg  \n",
            "  inflating: mini-dataset/dataset/normal/NORMAL2-IM-1179-0001.jpeg  \n",
            "  inflating: mini-dataset/dataset/normal/person1102_bacteria_3043.jpeg  \n",
            "  inflating: mini-dataset/dataset/normal/person1290_virus_2215.jpeg  \n",
            "  inflating: mini-dataset/dataset/normal/person1558_bacteria_4066.jpeg  \n",
            "  inflating: mini-dataset/dataset/normal/person1599_virus_2776.jpeg  \n",
            "  inflating: mini-dataset/dataset/normal/person1830_bacteria_4693.jpeg  \n",
            "  inflating: mini-dataset/dataset/normal/person1935_bacteria_4849.jpeg  \n",
            "  inflating: mini-dataset/dataset/normal/person1_bacteria_2.jpeg  \n",
            "  inflating: mini-dataset/dataset/normal/person259_bacteria_1220.jpeg  \n",
            "  inflating: mini-dataset/dataset/normal/person339_bacteria_1574.jpeg  \n",
            "  inflating: mini-dataset/dataset/normal/person378_virus_761.jpeg  \n",
            "  inflating: mini-dataset/dataset/normal/person438_bacteria_1893.jpeg  \n",
            "  inflating: mini-dataset/dataset/normal/person525_bacteria_2216.jpeg  \n",
            "  inflating: mini-dataset/dataset/normal/person612_bacteria_2478.jpeg  \n",
            "  inflating: mini-dataset/dataset/normal/person651_bacteria_2543.jpeg  \n",
            "  inflating: mini-dataset/dataset/normal/person925_virus_1582.jpeg  \n",
            "  inflating: mini-dataset/dataset/normal/person934_virus_1595.jpeg  \n",
            "  inflating: mini-dataset/dataset/normal/person939_bacteria_2864.jpeg  \n",
            "  inflating: mini-dataset/dataset/normal/person989_virus_1667.jpeg  \n",
            "  inflating: sampleSubmission.csv    \n"
          ],
          "name": "stdout"
        }
      ]
    },
    {
      "cell_type": "code",
      "metadata": {
        "id": "d2xGNY0w1049"
      },
      "source": [
        "import tensorflow as tf\n",
        "import numpy as np\n",
        "import matplotlib.pyplot as pyplot\n",
        "import pandas as pd\n",
        "from tensorflow import keras\n",
        "import os\n",
        "import shutil\n",
        "from matplotlib.image import imread\n",
        "from keras.preprocessing.image import ImageDataGenerator\n",
        "from keras import optimizers\n",
        "from tensorflow.keras.layers import Dense, Flatten, BatchNormalization, Activation\n",
        "from tensorflow.keras.models import Model\n",
        "from keras import models\n",
        "from keras import layers\n",
        "from keras.layers.core import Flatten, Dense, Dropout, Lambda\n",
        "import math"
      ],
      "execution_count": null,
      "outputs": []
    },
    {
      "cell_type": "code",
      "metadata": {
        "id": "eFDPRjpZd8Ns"
      },
      "source": [
        "original_dataset_dir_negative = '/content/datasets/datasets/train/negative'\n",
        "original_dataset_dir_positive = '/content/datasets/datasets/train/positive'\n",
        "base_dir = '/content/Data'\n",
        "\n",
        "train_dir = os.path.join(base_dir, 'train')\n",
        "validation_dir = os.path.join(base_dir, 'validation')\n",
        "test_dir = os.path.join(base_dir, 'test')"
      ],
      "execution_count": null,
      "outputs": []
    },
    {
      "cell_type": "code",
      "metadata": {
        "id": "Uv-Wk4rkeTvd"
      },
      "source": [
        "os.mkdir(base_dir)\n",
        "os.mkdir(train_dir)\n",
        "os.mkdir(validation_dir)\n",
        "os.mkdir(test_dir)"
      ],
      "execution_count": null,
      "outputs": []
    },
    {
      "cell_type": "code",
      "metadata": {
        "id": "EaWvGKCla0M5"
      },
      "source": [
        "train_negative_dir = os.path.join(train_dir, 'negative')\n",
        "train_positive_dir = os.path.join(train_dir, 'positive')\n",
        "#####################################################\n",
        "validation_negative_dir = os.path.join(validation_dir, 'negative')\n",
        "validation_positive_dir = os.path.join(validation_dir, 'positive')\n",
        "######################################################\n",
        "test_negative_dir = os.path.join(test_dir, 'negative')\n",
        "test_positive_dir = os.path.join(test_dir, 'positive')"
      ],
      "execution_count": null,
      "outputs": []
    },
    {
      "cell_type": "code",
      "metadata": {
        "id": "G1NAnvegewNk"
      },
      "source": [
        "\n",
        "os.mkdir(train_negative_dir)\n",
        "os.mkdir(train_positive_dir)\n",
        "######################################\n",
        "os.mkdir(validation_negative_dir)\n",
        "os.mkdir(validation_positive_dir)\n",
        "########################################\n",
        "os.mkdir(test_negative_dir)\n",
        "os.mkdir(test_positive_dir)"
      ],
      "execution_count": null,
      "outputs": []
    },
    {
      "cell_type": "code",
      "metadata": {
        "colab": {
          "base_uri": "https://localhost:8080/"
        },
        "id": "EbpHTic2dHy2",
        "outputId": "7871bd52-3d17-47aa-8b7d-649d32b307fc"
      },
      "source": [
        "positive_image = os.listdir(\"/content/datasets/datasets/train/positive\")\n",
        "negative_image = os.listdir(\"/content/datasets/datasets/train/negative\")\n",
        "print(len(negative_image))\n",
        "print(len(positive_image))"
      ],
      "execution_count": null,
      "outputs": [
        {
          "output_type": "stream",
          "text": [
            "551\n",
            "125\n"
          ],
          "name": "stdout"
        }
      ]
    },
    {
      "cell_type": "code",
      "metadata": {
        "colab": {
          "base_uri": "https://localhost:8080/"
        },
        "id": "VVWEI74ery5C",
        "outputId": "cf9ad409-2eca-47e7-e65e-c52ce6996091"
      },
      "source": [
        "from google.colab import drive\n",
        "drive.mount('/content/drive')"
      ],
      "execution_count": null,
      "outputs": [
        {
          "output_type": "stream",
          "text": [
            "Mounted at /content/drive\n"
          ],
          "name": "stdout"
        }
      ]
    },
    {
      "cell_type": "code",
      "metadata": {
        "colab": {
          "base_uri": "https://localhost:8080/"
        },
        "id": "FXXILWy4d7ku",
        "outputId": "c50744b7-841a-480b-d6c4-72db14ee9517"
      },
      "source": [
        "\n",
        "for i in range(501):\n",
        "\n",
        "  src = os.path.join(original_dataset_dir_negative,negative_image[i] )\n",
        "  dst = os.path.join(train_negative_dir,negative_image[i])\n",
        "  shutil.copyfile(src, dst)\n",
        "\n",
        "for i in range(501,531):\n",
        "\n",
        "  src = os.path.join(original_dataset_dir_negative,negative_image[i] )\n",
        "  dst = os.path.join(validation_negative_dir,negative_image[i])\n",
        "  shutil.copyfile(src, dst)\n",
        "\n",
        "for i in range(531,551):\n",
        "  \n",
        "  src = os.path.join(original_dataset_dir_negative,negative_image[i] )\n",
        "  dst = os.path.join(test_negative_dir,negative_image[i])\n",
        "  shutil.copyfile(src, dst)\n",
        "\n",
        "print(i)"
      ],
      "execution_count": null,
      "outputs": [
        {
          "output_type": "stream",
          "text": [
            "550\n"
          ],
          "name": "stdout"
        }
      ]
    },
    {
      "cell_type": "code",
      "metadata": {
        "colab": {
          "base_uri": "https://localhost:8080/"
        },
        "id": "pB5Gfa1G3XJV",
        "outputId": "c39f1ce5-87cf-4b2f-e3cc-087372e07aab"
      },
      "source": [
        "for i in range(100):\n",
        "  src = os.path.join(original_dataset_dir_positive,positive_image[i] )\n",
        "  dst = os.path.join(train_positive_dir,positive_image[i])\n",
        "  shutil.copyfile(src, dst)\n",
        "print(\"done with train\")\n",
        "\n",
        "for i in range(100,113):\n",
        "  src = os.path.join(original_dataset_dir_positive,positive_image[i] )\n",
        "  dst = os.path.join(validation_positive_dir,positive_image[i])\n",
        "  shutil.copyfile(src, dst)\n",
        "print(\"done with validation\")\n",
        "\n",
        "for i in range(113,125):\n",
        "  src = os.path.join(original_dataset_dir_positive,positive_image[i] )\n",
        "  dst = os.path.join(test_positive_dir,positive_image[i])\n",
        "  shutil.copyfile(src, dst)\n",
        "print(\"done with test\")\n",
        "\n"
      ],
      "execution_count": null,
      "outputs": [
        {
          "output_type": "stream",
          "text": [
            "done with train\n",
            "done with validation\n",
            "done with test\n"
          ],
          "name": "stdout"
        }
      ]
    },
    {
      "cell_type": "code",
      "metadata": {
        "colab": {
          "base_uri": "https://localhost:8080/",
          "height": 269
        },
        "id": "bL1K83ES4tkd",
        "outputId": "c0c91d97-f977-40b7-9d4f-ce59c4427ebb"
      },
      "source": [
        "for i in range(9):\n",
        "\t# define subplot\n",
        "\tpyplot.subplot(330 + 1 + i)\n",
        "\t# define filename\n",
        "\tsrc = os.path.join(original_dataset_dir_negative,negative_image[i] )\n",
        "\t# load image pixels\n",
        "\timage = imread(src)\n",
        "\t# plot raw pixel data\n",
        "\tpyplot.imshow(image)\n",
        "# show the figure\n",
        "pyplot.show()"
      ],
      "execution_count": null,
      "outputs": [
        {
          "output_type": "display_data",
          "data": {
            "image/png": "[encoded data removed]",
            "text/plain": [
              "<Figure size 432x288 with 9 Axes>"
            ]
          },
          "metadata": {
            "tags": [],
            "needs_background": "light"
          }
        }
      ]
    },
    {
      "cell_type": "code",
      "metadata": {
        "id": "cyKOkIc0YfXG"
      },
      "source": [
        "train_datagen = ImageDataGenerator(\n",
        "    rescale=1./255,\n",
        "    rotation_range=10,\n",
        "    width_shift_range=0.2,\n",
        "    height_shift_range=0.2,\n",
        "    horizontal_flip=True,\n",
        "    fill_mode='nearest')\n",
        "test_datagen = ImageDataGenerator(rescale=1./255)"
      ],
      "execution_count": null,
      "outputs": []
    },
    {
      "cell_type": "code",
      "metadata": {
        "colab": {
          "base_uri": "https://localhost:8080/"
        },
        "id": "zC-uBoqIY-cH",
        "outputId": "95825af9-9433-466c-9396-90b1b6f4db9f"
      },
      "source": [
        "train_generator = train_datagen.flow_from_directory(\n",
        "  train_dir,\n",
        "  target_size=(224, 224),\n",
        "  batch_size=16,\n",
        "  class_mode='binary')\n"
      ],
      "execution_count": null,
      "outputs": [
        {
          "output_type": "stream",
          "text": [
            "Found 601 images belonging to 2 classes.\n"
          ],
          "name": "stdout"
        }
      ]
    },
    {
      "cell_type": "code",
      "metadata": {
        "colab": {
          "base_uri": "https://localhost:8080/"
        },
        "id": "K-5eIaMsbOpc",
        "outputId": "4a49c5ac-7ebc-43bf-e7bd-1494db744deb"
      },
      "source": [
        "validation_generator = test_datagen.flow_from_directory(\n",
        "  validation_dir,\n",
        "  target_size=(224, 224),\n",
        "  batch_size=16,\n",
        "  class_mode='binary')"
      ],
      "execution_count": null,
      "outputs": [
        {
          "output_type": "stream",
          "text": [
            "Found 43 images belonging to 2 classes.\n"
          ],
          "name": "stdout"
        }
      ]
    },
    {
      "cell_type": "code",
      "metadata": {
        "id": "xkRusXC6ZhKN"
      },
      "source": [
        "from sklearn.utils import class_weight\n",
        "import numpy as np\n",
        "\n",
        "class_weights = class_weight.compute_class_weight(\n",
        "               'balanced',\n",
        "                np.unique(train_generator.classes), \n",
        "                train_generator.classes)\n",
        "train_class_weights = dict(enumerate(class_weights))"
      ],
      "execution_count": null,
      "outputs": []
    },
    {
      "cell_type": "code",
      "metadata": {
        "id": "HWSQQ664ZJJX"
      },
      "source": [
        "# history = model.fit_generator(\n",
        "#       train_generator,\n",
        "#       steps_per_epoch=100,\n",
        "#       epochs=30,\n",
        "#       class_weight=class_weights\n",
        "#       validation_data=validation_generator,\n",
        "#       validation_steps=50) "
      ],
      "execution_count": null,
      "outputs": []
    },
    {
      "cell_type": "code",
      "metadata": {
        "colab": {
          "base_uri": "https://localhost:8080/"
        },
        "id": "oJtkXnjuZgM5",
        "outputId": "37a940c4-97b7-44fc-9ae9-6f2d3b1157e1"
      },
      "source": [
        "from tensorflow.keras.applications import ResNet50\n",
        "INPUT_SHAPE = (224, 224, 3)\n",
        "res_net=ResNet50( include_top=False,weights=\"imagenet\",\n",
        "    input_shape=INPUT_SHAPE ,\n",
        "    pooling=max)"
      ],
      "execution_count": null,
      "outputs": [
        {
          "output_type": "stream",
          "text": [
            "Downloading data from https://storage.googleapis.com/tensorflow/keras-applications/resnet/resnet50_weights_tf_dim_ordering_tf_kernels_notop.h5\n",
            "94773248/94765736 [==============================] - 1s 0us/step\n"
          ],
          "name": "stdout"
        }
      ]
    },
    {
      "cell_type": "code",
      "metadata": {
        "id": "5sAPbuRqOOkd"
      },
      "source": [
        "for layer in res_net.layers:\n",
        "    layer.trainable = False"
      ],
      "execution_count": null,
      "outputs": []
    },
    {
      "cell_type": "code",
      "metadata": {
        "id": "xluxxWr5JN1S"
      },
      "source": [
        "res_net.summary()"
      ],
      "execution_count": null,
      "outputs": []
    },
    {
      "cell_type": "code",
      "metadata": {
        "id": "A_R_gJb3PKWW"
      },
      "source": [
        "\n",
        "model =  tf.keras.models.Sequential()\n",
        "model.add(res_net)\n",
        "model.add(Flatten())\n",
        "model.add(layers.Dense(512, activation='relu'))\n",
        "model.add(layers.Dense(1, activation='sigmoid'))\n",
        "\n",
        "epochs=50\n",
        "lr=2e-5\n",
        "\n",
        "opt = tf.keras.optimizers.Adam(learning_rate = lr)\n",
        "\n",
        "checkpoint_filepath =  '/content/drive/MyDrive/models/model_1.h5'\n",
        "model_checkpoint_callback_ = tf.keras.callbacks.ModelCheckpoint(\n",
        "    filepath=checkpoint_filepath,\n",
        "    save_weights_only=False,\n",
        "    save_freq=\"epoch\",\n",
        "    monitor='val_acc',\n",
        "    mode='max',\n",
        "    verbose=1,\n",
        "    save_best_only=False)\n",
        "model.compile(optimizer= opt, loss = 'binary_crossentropy', metrics=['acc'])"
      ],
      "execution_count": null,
      "outputs": []
    },
    {
      "cell_type": "code",
      "metadata": {
        "colab": {
          "base_uri": "https://localhost:8080/"
        },
        "id": "bJEcSMCxVO7B",
        "outputId": "37a3d5fb-2acf-4a52-ea67-d045cc050811"
      },
      "source": [
        "\n",
        "device_name = tf.test.gpu_device_name()\n",
        "if device_name != '/device:GPU:0':\n",
        "  raise SystemError('GPU device not found')\n",
        "print('Found GPU at: {}'.format(device_name))"
      ],
      "execution_count": null,
      "outputs": [
        {
          "output_type": "stream",
          "text": [
            "Found GPU at: /device:GPU:0\n"
          ],
          "name": "stdout"
        }
      ]
    },
    {
      "cell_type": "code",
      "metadata": {
        "id": "y9qObgfOgom5"
      },
      "source": [
        "BATCH_SIZE=16\n",
        "compute_steps_per_epoch = lambda x: int(math.ceil(1. * x / BATCH_SIZE))\n",
        "\n",
        "steps_per_epoch = compute_steps_per_epoch(601)\n",
        "\n",
        "history =model.fit(train_generator,\n",
        "      steps_per_epoch=steps_per_epoch,\n",
        "      epochs=epochs,\n",
        "      validation_data=validation_generator,\n",
        "      )"
      ],
      "execution_count": null,
      "outputs": []
    },
    {
      "cell_type": "code",
      "metadata": {
        "colab": {
          "base_uri": "https://localhost:8080/"
        },
        "id": "MtJaGaCO5Abo",
        "outputId": "f8f17389-99c7-499a-f062-a8aae64c5409"
      },
      "source": [
        "model.save('/content/drive/MyDrive/models/model_frozen_test')"
      ],
      "execution_count": null,
      "outputs": [
        {
          "output_type": "stream",
          "text": [
            "WARNING:absl:Found untraced functions such as flatten_2_layer_call_and_return_conditional_losses, flatten_2_layer_call_fn, dense_4_layer_call_and_return_conditional_losses, dense_4_layer_call_fn, dense_5_layer_call_and_return_conditional_losses while saving (showing 5 of 15). These functions will not be directly callable after loading.\n",
            "/usr/local/lib/python3.7/dist-packages/tensorflow/python/keras/utils/generic_utils.py:497: CustomMaskWarning: Custom mask layers require a config and must override get_config. When loading, the custom mask layer must be passed to the custom_objects argument.\n",
            "  category=CustomMaskWarning)\n"
          ],
          "name": "stderr"
        },
        {
          "output_type": "stream",
          "text": [
            "INFO:tensorflow:Assets written to: /content/drive/MyDrive/models/model_frozen_test/assets\n"
          ],
          "name": "stdout"
        },
        {
          "output_type": "stream",
          "text": [
            "INFO:tensorflow:Assets written to: /content/drive/MyDrive/models/model_frozen_test/assets\n"
          ],
          "name": "stderr"
        }
      ]
    },
    {
      "cell_type": "code",
      "metadata": {
        "colab": {
          "base_uri": "https://localhost:8080/",
          "height": 544
        },
        "id": "z48gAOX5zdLO",
        "outputId": "cb88a91c-c5ea-440f-c66a-16a61b429f37"
      },
      "source": [
        "import matplotlib.pyplot as plt\n",
        "acc = history.history['acc']\n",
        "val_acc = history.history['val_acc']\n",
        "loss = history.history['loss']\n",
        "val_loss = history.history['val_loss']\n",
        "epochs = range(1, len(acc) + 1)\n",
        "plt.plot(epochs, acc, 'bo', label='Training acc')\n",
        "plt.plot(epochs, val_acc, 'b', label='Validation acc')\n",
        "plt.title('Training and validation accuracy')\n",
        "plt.legend()\n",
        "plt.figure()\n",
        "plt.plot(epochs, loss, 'bo', label='Training loss')\n",
        "plt.plot(epochs, val_loss, 'b', label='Validation loss')\n",
        "plt.title('Training and validation loss')\n",
        "plt.legend()\n",
        "plt.show()"
      ],
      "execution_count": null,
      "outputs": [
        {
          "output_type": "display_data",
          "data": {
            "image/png": "[encoded data removed]",
            "text/plain": [
              "<Figure size 432x288 with 1 Axes>"
            ]
          },
          "metadata": {
            "tags": []
          }
        },
        {
          "output_type": "display_data",
          "data": {
            "image/png": "[encoded data removed]",
            "text/plain": [
              "<Figure size 432x288 with 1 Axes>"
            ]
          },
          "metadata": {
            "tags": []
          }
        }
      ]
    },
    {
      "cell_type": "code",
      "metadata": {
        "colab": {
          "base_uri": "https://localhost:8080/"
        },
        "id": "OTBGGf7e3vTH",
        "outputId": "1cb630ec-b46a-4c5f-d516-a1356832e44b"
      },
      "source": [
        "test_generator=test_datagen.flow_from_directory(\n",
        "    test_dir,\n",
        "    target_size=(224,224),\n",
        "    class_mode='binary',\n",
        "    batch_size=1\n",
        ")"
      ],
      "execution_count": null,
      "outputs": [
        {
          "output_type": "stream",
          "text": [
            "Found 32 images belonging to 2 classes.\n"
          ],
          "name": "stdout"
        }
      ]
    },
    {
      "cell_type": "code",
      "metadata": {
        "colab": {
          "base_uri": "https://localhost:8080/"
        },
        "id": "_-c5IUKyzxdV",
        "outputId": "5d817a5c-3cf6-46cd-c3f6-34fa5f69ec5c"
      },
      "source": [
        "model.evaluate(test_generator)"
      ],
      "execution_count": null,
      "outputs": [
        {
          "output_type": "stream",
          "text": [
            "32/32 [==============================] - 1s 28ms/step - loss: 0.5735 - acc: 0.6250\n"
          ],
          "name": "stdout"
        },
        {
          "output_type": "execute_result",
          "data": {
            "text/plain": [
              "[0.5735048055648804, 0.625]"
            ]
          },
          "metadata": {
            "tags": []
          },
          "execution_count": 34
        }
      ]
    },
    {
      "cell_type": "code",
      "metadata": {
        "id": "1-Ajr18P57Xy"
      },
      "source": [
        "res_net.summary()"
      ],
      "execution_count": null,
      "outputs": []
    },
    {
      "cell_type": "code",
      "metadata": {
        "id": "Te7qBFuN4O0t"
      },
      "source": [
        "res_net.trainable = True\n",
        "\n",
        "set_trainable = False\n",
        "for layer in res_net.layers:\n",
        "  if layer.name == 'conv5_block2_3_conv':\n",
        "    set_trainable = True\n",
        "  if set_trainable:\n",
        "    layer.trainable = True\n",
        "  else:\n",
        "    layer.trainable = False"
      ],
      "execution_count": null,
      "outputs": []
    },
    {
      "cell_type": "code",
      "metadata": {
        "colab": {
          "base_uri": "https://localhost:8080/"
        },
        "id": "rVwywGZf5hcw",
        "outputId": "5dd645c2-6891-45b0-9a8c-80708d431bf9"
      },
      "source": [
        "model.summary()"
      ],
      "execution_count": null,
      "outputs": [
        {
          "output_type": "stream",
          "text": [
            "Model: \"sequential_2\"\n",
            "_________________________________________________________________\n",
            "Layer (type)                 Output Shape              Param #   \n",
            "=================================================================\n",
            "resnet50 (Functional)        (None, 7, 7, 2048)        23587712  \n",
            "_________________________________________________________________\n",
            "module_wrapper_6 (ModuleWrap (None, 100352)            0         \n",
            "_________________________________________________________________\n",
            "module_wrapper_7 (ModuleWrap (None, 512)               51380736  \n",
            "_________________________________________________________________\n",
            "module_wrapper_8 (ModuleWrap (None, 1)                 513       \n",
            "=================================================================\n",
            "Total params: 74,968,961\n",
            "Trainable params: 56,901,633\n",
            "Non-trainable params: 18,067,328\n",
            "_________________________________________________________________\n"
          ],
          "name": "stdout"
        }
      ]
    },
    {
      "cell_type": "code",
      "metadata": {
        "id": "fS8bA_uu6dZw"
      },
      "source": [
        "BATCH_SIZE=16\n",
        "compute_steps_per_epoch = lambda x: int(math.ceil(1. * x / BATCH_SIZE))\n",
        "\n",
        "steps_per_epoch = compute_steps_per_epoch(601)\n",
        "lr=1e-5\n",
        "opt = tf.keras.optimizers.Adam(learning_rate = lr)\n",
        "checkpoint_filepath =  '/content/drive/MyDrive/models/model_frozen_top_test.h5'\n",
        "model_checkpoint_callback_ = tf.keras.callbacks.ModelCheckpoint(\n",
        "    filepath=checkpoint_filepath,\n",
        "    save_weights_only=False,\n",
        "    save_freq=\"epoch\",\n",
        "    monitor='val_acc',\n",
        "    mode='max',\n",
        "    verbose=1,\n",
        "    save_best_only=False)\n",
        "model.compile(optimizer= opt, loss = 'binary_crossentropy', metrics=['acc'])\n",
        "\n",
        "history =model.fit(train_generator,\n",
        "      steps_per_epoch=steps_per_epoch,\n",
        "      epochs=30,\n",
        "      validation_data=validation_generator,\n",
        "      )"
      ],
      "execution_count": null,
      "outputs": []
    },
    {
      "cell_type": "code",
      "metadata": {
        "colab": {
          "base_uri": "https://localhost:8080/"
        },
        "id": "sm6XcOScSOqN",
        "outputId": "a53f5274-af85-4be9-cc24-84fe6f262a02"
      },
      "source": [
        "model.save('/content/drive/MyDrive/models/model_frozen_test')"
      ],
      "execution_count": null,
      "outputs": [
        {
          "output_type": "stream",
          "text": [
            "WARNING:absl:Found untraced functions such as flatten_2_layer_call_and_return_conditional_losses, flatten_2_layer_call_fn, dense_4_layer_call_and_return_conditional_losses, dense_4_layer_call_fn, dense_5_layer_call_and_return_conditional_losses while saving (showing 5 of 15). These functions will not be directly callable after loading.\n",
            "/usr/local/lib/python3.7/dist-packages/tensorflow/python/keras/utils/generic_utils.py:497: CustomMaskWarning: Custom mask layers require a config and must override get_config. When loading, the custom mask layer must be passed to the custom_objects argument.\n",
            "  category=CustomMaskWarning)\n"
          ],
          "name": "stderr"
        },
        {
          "output_type": "stream",
          "text": [
            "INFO:tensorflow:Assets written to: /content/drive/MyDrive/models/model_frozen_test/assets\n"
          ],
          "name": "stdout"
        },
        {
          "output_type": "stream",
          "text": [
            "INFO:tensorflow:Assets written to: /content/drive/MyDrive/models/model_frozen_test/assets\n"
          ],
          "name": "stderr"
        }
      ]
    },
    {
      "cell_type": "code",
      "metadata": {
        "id": "u6PTQL4H6sAE"
      },
      "source": [
        "res_net.trainable=True"
      ],
      "execution_count": null,
      "outputs": []
    },
    {
      "cell_type": "code",
      "metadata": {
        "colab": {
          "base_uri": "https://localhost:8080/"
        },
        "id": "ZY7nhKv2AVgK",
        "outputId": "369f8633-06b4-4946-b721-c76a2a7c7aee"
      },
      "source": [
        "model.summary()"
      ],
      "execution_count": null,
      "outputs": [
        {
          "output_type": "stream",
          "text": [
            "Model: \"sequential_2\"\n",
            "_________________________________________________________________\n",
            "Layer (type)                 Output Shape              Param #   \n",
            "=================================================================\n",
            "resnet50 (Functional)        (None, 7, 7, 2048)        23587712  \n",
            "_________________________________________________________________\n",
            "module_wrapper_6 (ModuleWrap (None, 100352)            0         \n",
            "_________________________________________________________________\n",
            "module_wrapper_7 (ModuleWrap (None, 512)               51380736  \n",
            "_________________________________________________________________\n",
            "module_wrapper_8 (ModuleWrap (None, 1)                 513       \n",
            "=================================================================\n",
            "Total params: 74,968,961\n",
            "Trainable params: 74,915,841\n",
            "Non-trainable params: 53,120\n",
            "_________________________________________________________________\n"
          ],
          "name": "stdout"
        }
      ]
    },
    {
      "cell_type": "code",
      "metadata": {
        "id": "jSXpne7zAXRK"
      },
      "source": [
        "model = keras.models.load_model('/content/drive/MyDrive/models/model_frozen_test')"
      ],
      "execution_count": null,
      "outputs": []
    },
    {
      "cell_type": "code",
      "metadata": {
        "colab": {
          "base_uri": "https://localhost:8080/"
        },
        "id": "uEqW-AypGB4I",
        "outputId": "5e89980b-5a0a-43f0-f33c-f729fdde301b"
      },
      "source": [
        "model.evaluate(test_generator)"
      ],
      "execution_count": null,
      "outputs": [
        {
          "output_type": "stream",
          "text": [
            "32/32 [==============================] - 1s 31ms/step - loss: 0.2757 - acc: 0.9062\n"
          ],
          "name": "stdout"
        },
        {
          "output_type": "execute_result",
          "data": {
            "text/plain": [
              "[0.27568164467811584, 0.90625]"
            ]
          },
          "metadata": {
            "tags": []
          },
          "execution_count": 48
        }
      ]
    },
    {
      "cell_type": "code",
      "metadata": {
        "id": "jaicR16RWkLQ"
      },
      "source": [
        "import tensorflow as tf\n",
        "converter = tf.lite.TFLiteConverter.from_saved_model(\"/content/drive/MyDrive/models/model_frozen_test\") # path to the SavedModel directory\n",
        "converter.optimizations = [tf.lite.Optimize.DEFAULT]\n",
        "tflite_model = converter.convert()\n",
        "\n",
        "# Save the model.\n",
        "with open(\"/content/drive/MyDrive/models/modellite_compileddd.tflite\", 'wb') as f:\n",
        "  f.write(tflite_model)"
      ],
      "execution_count": null,
      "outputs": []
    },
    {
      "cell_type": "code",
      "metadata": {
        "colab": {
          "base_uri": "https://localhost:8080/"
        },
        "id": "DeyfMKq6YP1B",
        "outputId": "86c1d0fd-6480-4d70-e323-55bddd0b0d22"
      },
      "source": [
        "\n",
        "retrain_dir='/content/datasets/datasets/train'\n",
        "train_datagen_f = ImageDataGenerator(\n",
        "    rescale=1./255,\n",
        "    rotation_range=10,\n",
        "    width_shift_range=0.2,\n",
        "    height_shift_range=0.2,\n",
        "    horizontal_flip=True,\n",
        "    fill_mode='nearest')\n",
        "train_generator_f = train_datagen.flow_from_directory(\n",
        "  retrain_dir,\n",
        "  target_size=(224, 224),\n",
        "  batch_size=16,\n",
        "  class_mode='binary')\n"
      ],
      "execution_count": null,
      "outputs": [
        {
          "output_type": "stream",
          "text": [
            "Found 676 images belonging to 2 classes.\n"
          ],
          "name": "stdout"
        }
      ]
    },
    {
      "cell_type": "code",
      "metadata": {
        "id": "x7wQUThHbOLn"
      },
      "source": [
        "from tensorflow.keras.applications import ResNet50\n",
        "INPUT_SHAPE = (224, 224, 3)\n",
        "res_net_f=ResNet50( include_top=False,weights=\"imagenet\",\n",
        "    input_shape=INPUT_SHAPE ,\n",
        "    pooling=max)\n",
        "for layer in res_net_f.layers:\n",
        "    layer.trainable = False\n",
        "res_net_f.summary()"
      ],
      "execution_count": null,
      "outputs": []
    },
    {
      "cell_type": "code",
      "metadata": {
        "id": "1jaZrIHWcbLS",
        "colab": {
          "base_uri": "https://localhost:8080/",
          "height": 229
        },
        "outputId": "e5546405-744e-4cc5-80e4-44c5006cc59b"
      },
      "source": [
        "\n",
        "model_f =  tf.keras.models.Sequential()\n",
        "model_f.add(res_net)\n",
        "model_f.add(Flatten())\n",
        "model_f.add(layers.Dense(512, activation='relu'))\n",
        "model_f.add(layers.Dense(1, activation='sigmoid'))\n",
        "\n",
        "epochs=50\n",
        "lr=2e-5\n",
        "\n",
        "opt = tf.keras.optimizers.Adam(learning_rate = lr)\n",
        "\n",
        "checkpoint_filepath =  '/content/drive/MyDrive/models/model_1.h5'\n",
        "model_f.compile(optimizer= opt, loss = 'binary_crossentropy', metrics=['acc'])"
      ],
      "execution_count": null,
      "outputs": [
        {
          "output_type": "error",
          "ename": "NameError",
          "evalue": "ignored",
          "traceback": [
            "\u001b[0;31m---------------------------------------------------------------------------\u001b[0m",
            "\u001b[0;31mNameError\u001b[0m                                 Traceback (most recent call last)",
            "\u001b[0;32m<ipython-input-1-28bab5205cc6>\u001b[0m in \u001b[0;36m<module>\u001b[0;34m()\u001b[0m\n\u001b[1;32m      1\u001b[0m \u001b[0;34m\u001b[0m\u001b[0m\n\u001b[0;32m----> 2\u001b[0;31m \u001b[0mmodel_f\u001b[0m \u001b[0;34m=\u001b[0m  \u001b[0mtf\u001b[0m\u001b[0;34m.\u001b[0m\u001b[0mkeras\u001b[0m\u001b[0;34m.\u001b[0m\u001b[0mmodels\u001b[0m\u001b[0;34m.\u001b[0m\u001b[0mSequential\u001b[0m\u001b[0;34m(\u001b[0m\u001b[0;34m)\u001b[0m\u001b[0;34m\u001b[0m\u001b[0;34m\u001b[0m\u001b[0m\n\u001b[0m\u001b[1;32m      3\u001b[0m \u001b[0mmodel_f\u001b[0m\u001b[0;34m.\u001b[0m\u001b[0madd\u001b[0m\u001b[0;34m(\u001b[0m\u001b[0mres_net\u001b[0m\u001b[0;34m)\u001b[0m\u001b[0;34m\u001b[0m\u001b[0;34m\u001b[0m\u001b[0m\n\u001b[1;32m      4\u001b[0m \u001b[0mmodel_f\u001b[0m\u001b[0;34m.\u001b[0m\u001b[0madd\u001b[0m\u001b[0;34m(\u001b[0m\u001b[0mFlatten\u001b[0m\u001b[0;34m(\u001b[0m\u001b[0;34m)\u001b[0m\u001b[0;34m)\u001b[0m\u001b[0;34m\u001b[0m\u001b[0;34m\u001b[0m\u001b[0m\n\u001b[1;32m      5\u001b[0m \u001b[0mmodel_f\u001b[0m\u001b[0;34m.\u001b[0m\u001b[0madd\u001b[0m\u001b[0;34m(\u001b[0m\u001b[0mlayers\u001b[0m\u001b[0;34m.\u001b[0m\u001b[0mDense\u001b[0m\u001b[0;34m(\u001b[0m\u001b[0;36m512\u001b[0m\u001b[0;34m,\u001b[0m \u001b[0mactivation\u001b[0m\u001b[0;34m=\u001b[0m\u001b[0;34m'relu'\u001b[0m\u001b[0;34m)\u001b[0m\u001b[0;34m)\u001b[0m\u001b[0;34m\u001b[0m\u001b[0;34m\u001b[0m\u001b[0m\n",
            "\u001b[0;31mNameError\u001b[0m: name 'tf' is not defined"
          ]
        }
      ]
    },
    {
      "cell_type": "code",
      "metadata": {
        "colab": {
          "base_uri": "https://localhost:8080/"
        },
        "id": "axpdpnbXcotO",
        "outputId": "3856b7bc-b77e-4a8b-fe83-2cb114876615"
      },
      "source": [
        "BATCH_SIZE=16\n",
        "compute_steps_per_epoch = lambda x: int(math.ceil(1. * x / BATCH_SIZE))\n",
        "\n",
        "steps_per_epoch = compute_steps_per_epoch(676)\n",
        "\n",
        "history =model_f.fit(train_generator,\n",
        "      steps_per_epoch=steps_per_epoch,\n",
        "      epochs=epochs,\n",
        "      )"
      ],
      "execution_count": null,
      "outputs": [
        {
          "output_type": "stream",
          "text": [
            "Epoch 1/50\n",
            "43/43 [==============================] - 24s 453ms/step - loss: 0.5361 - acc: 0.8787\n",
            "Epoch 2/50\n",
            "43/43 [==============================] - 20s 451ms/step - loss: 0.0944 - acc: 0.9675\n",
            "Epoch 3/50\n",
            "43/43 [==============================] - 20s 449ms/step - loss: 0.0847 - acc: 0.9660\n",
            "Epoch 4/50\n",
            "43/43 [==============================] - 19s 444ms/step - loss: 0.0680 - acc: 0.9763\n",
            "Epoch 5/50\n",
            "43/43 [==============================] - 19s 450ms/step - loss: 0.0447 - acc: 0.9837\n",
            "Epoch 6/50\n",
            "43/43 [==============================] - 20s 456ms/step - loss: 0.0513 - acc: 0.9822\n",
            "Epoch 7/50\n",
            "43/43 [==============================] - 20s 454ms/step - loss: 0.0346 - acc: 0.9882\n",
            "Epoch 8/50\n",
            "43/43 [==============================] - 19s 449ms/step - loss: 0.0456 - acc: 0.9837\n",
            "Epoch 9/50\n",
            "43/43 [==============================] - 19s 447ms/step - loss: 0.0482 - acc: 0.9822\n",
            "Epoch 10/50\n",
            "43/43 [==============================] - 19s 451ms/step - loss: 0.0296 - acc: 0.9867\n",
            "Epoch 11/50\n",
            "43/43 [==============================] - 19s 446ms/step - loss: 0.0308 - acc: 0.9911\n",
            "Epoch 12/50\n",
            "43/43 [==============================] - 19s 446ms/step - loss: 0.0121 - acc: 0.9941\n",
            "Epoch 13/50\n",
            "43/43 [==============================] - 19s 447ms/step - loss: 0.0229 - acc: 0.9911\n",
            "Epoch 14/50\n",
            "43/43 [==============================] - 19s 459ms/step - loss: 0.0277 - acc: 0.9896\n",
            "Epoch 15/50\n",
            "43/43 [==============================] - 20s 454ms/step - loss: 0.0185 - acc: 0.9956\n",
            "Epoch 16/50\n",
            "43/43 [==============================] - 19s 448ms/step - loss: 0.0561 - acc: 0.9852\n",
            "Epoch 17/50\n",
            "43/43 [==============================] - 19s 452ms/step - loss: 0.0236 - acc: 0.9896\n",
            "Epoch 18/50\n",
            "43/43 [==============================] - 19s 443ms/step - loss: 0.0042 - acc: 0.9985\n",
            "Epoch 19/50\n",
            "43/43 [==============================] - 20s 451ms/step - loss: 0.0118 - acc: 0.9941\n",
            "Epoch 20/50\n",
            "43/43 [==============================] - 20s 453ms/step - loss: 0.0235 - acc: 0.9926\n",
            "Epoch 21/50\n",
            "43/43 [==============================] - 19s 447ms/step - loss: 0.0013 - acc: 1.0000\n",
            "Epoch 22/50\n",
            "43/43 [==============================] - 19s 449ms/step - loss: 0.0025 - acc: 0.9985\n",
            "Epoch 23/50\n",
            "43/43 [==============================] - 19s 451ms/step - loss: 0.0098 - acc: 0.9970\n",
            "Epoch 24/50\n",
            "43/43 [==============================] - 19s 458ms/step - loss: 0.0198 - acc: 0.9941\n",
            "Epoch 25/50\n",
            "43/43 [==============================] - 19s 449ms/step - loss: 0.0094 - acc: 0.9956\n",
            "Epoch 26/50\n",
            "43/43 [==============================] - 19s 447ms/step - loss: 0.0164 - acc: 0.9926\n",
            "Epoch 27/50\n",
            "43/43 [==============================] - 19s 448ms/step - loss: 0.0143 - acc: 0.9941\n",
            "Epoch 28/50\n",
            "43/43 [==============================] - 20s 447ms/step - loss: 0.0137 - acc: 0.9956\n",
            "Epoch 29/50\n",
            "43/43 [==============================] - 19s 444ms/step - loss: 0.0094 - acc: 0.9985\n",
            "Epoch 30/50\n",
            "43/43 [==============================] - 19s 448ms/step - loss: 0.0222 - acc: 0.9911\n",
            "Epoch 31/50\n",
            "43/43 [==============================] - 19s 446ms/step - loss: 0.0098 - acc: 0.9985\n",
            "Epoch 32/50\n",
            "43/43 [==============================] - 20s 452ms/step - loss: 0.0119 - acc: 0.9941\n",
            "Epoch 33/50\n",
            "43/43 [==============================] - 19s 448ms/step - loss: 0.0023 - acc: 1.0000\n",
            "Epoch 34/50\n",
            "43/43 [==============================] - 19s 448ms/step - loss: 0.0121 - acc: 0.9956\n",
            "Epoch 35/50\n",
            "43/43 [==============================] - 19s 446ms/step - loss: 0.0040 - acc: 0.9985\n",
            "Epoch 36/50\n",
            "43/43 [==============================] - 19s 448ms/step - loss: 0.0038 - acc: 0.9985\n",
            "Epoch 37/50\n",
            "43/43 [==============================] - 19s 446ms/step - loss: 0.0050 - acc: 0.9970\n",
            "Epoch 38/50\n",
            "43/43 [==============================] - 19s 449ms/step - loss: 0.0136 - acc: 0.9985\n",
            "Epoch 39/50\n",
            "43/43 [==============================] - 19s 448ms/step - loss: 0.0127 - acc: 0.9956\n",
            "Epoch 40/50\n",
            "43/43 [==============================] - 19s 450ms/step - loss: 0.0080 - acc: 0.9985\n",
            "Epoch 41/50\n",
            "43/43 [==============================] - 19s 445ms/step - loss: 0.0041 - acc: 0.9985\n",
            "Epoch 42/50\n",
            "43/43 [==============================] - 19s 443ms/step - loss: 0.0012 - acc: 1.0000\n",
            "Epoch 43/50\n",
            "43/43 [==============================] - 19s 440ms/step - loss: 0.0087 - acc: 0.9970\n",
            "Epoch 44/50\n",
            "43/43 [==============================] - 20s 449ms/step - loss: 0.0173 - acc: 0.9956\n",
            "Epoch 45/50\n",
            "43/43 [==============================] - 19s 457ms/step - loss: 0.0539 - acc: 0.9896\n",
            "Epoch 46/50\n",
            "43/43 [==============================] - 19s 446ms/step - loss: 0.0092 - acc: 0.9956\n",
            "Epoch 47/50\n",
            "43/43 [==============================] - 19s 451ms/step - loss: 0.0203 - acc: 0.9896\n",
            "Epoch 48/50\n",
            "43/43 [==============================] - 20s 452ms/step - loss: 0.0176 - acc: 0.9970\n",
            "Epoch 49/50\n",
            "43/43 [==============================] - 20s 468ms/step - loss: 0.0032 - acc: 0.9985\n",
            "Epoch 50/50\n",
            "43/43 [==============================] - 20s 461ms/step - loss: 0.0043 - acc: 0.9970\n"
          ],
          "name": "stdout"
        }
      ]
    },
    {
      "cell_type": "code",
      "metadata": {
        "colab": {
          "base_uri": "https://localhost:8080/"
        },
        "id": "DC-WCFunc0o3",
        "outputId": "1cd15f07-3f20-4167-80c7-e6ad4ccf0313"
      },
      "source": [
        "res_net_f.trainable = True\n",
        "\n",
        "set_trainable = False\n",
        "for layer in res_net_f.layers:\n",
        "  if layer.name == 'conv5_block2_3_conv':\n",
        "    set_trainable = True\n",
        "  if set_trainable:\n",
        "    layer.trainable = True\n",
        "  else:\n",
        "    layer.trainable = False\n",
        "model_f.summary()"
      ],
      "execution_count": null,
      "outputs": [
        {
          "output_type": "stream",
          "text": [
            "Model: \"sequential_4\"\n",
            "_________________________________________________________________\n",
            "Layer (type)                 Output Shape              Param #   \n",
            "=================================================================\n",
            "resnet50 (Functional)        (None, 7, 7, 2048)        23587712  \n",
            "_________________________________________________________________\n",
            "module_wrapper_12 (ModuleWra (None, 100352)            0         \n",
            "_________________________________________________________________\n",
            "module_wrapper_13 (ModuleWra (None, 512)               51380736  \n",
            "_________________________________________________________________\n",
            "module_wrapper_14 (ModuleWra (None, 1)                 513       \n",
            "=================================================================\n",
            "Total params: 74,968,961\n",
            "Trainable params: 74,915,841\n",
            "Non-trainable params: 53,120\n",
            "_________________________________________________________________\n"
          ],
          "name": "stdout"
        }
      ]
    },
    {
      "cell_type": "code",
      "metadata": {
        "colab": {
          "base_uri": "https://localhost:8080/",
          "height": 229
        },
        "id": "fSFe6uY0du3C",
        "outputId": "c9c817ab-1c8e-4ab7-9131-15631de31dc6"
      },
      "source": [
        "BATCH_SIZE=16\n",
        "compute_steps_per_epoch = lambda x: int(math.ceil(1. * x / BATCH_SIZE))\n",
        "\n",
        "steps_per_epoch = compute_steps_per_epoch(601)\n",
        "lr=1e-5\n",
        "opt = tf.keras.optimizers.Adam(learning_rate = lr)\n",
        "checkpoint_filepath =  '/content/drive/MyDrive/models/model_frozen_top_test.h5'\n",
        "model_checkpoint_callback_ = tf.keras.callbacks.ModelCheckpoint(\n",
        "    filepath=checkpoint_filepath,\n",
        "    save_weights_only=False,\n",
        "    save_freq=\"epoch\",\n",
        "    monitor='val_acc',\n",
        "    mode='max',\n",
        "    verbose=1,\n",
        "    save_best_only=False)\n",
        "tf.keras.callbacks.ModelCheckpoint()\n",
        "model.compile(optimizer= opt, loss = 'binary_crossentropy', metrics=['acc'])\n",
        "\n",
        "history =model_f.fit(train_generator,\n",
        "      steps_per_epoch=steps_per_epoch,\n",
        "      epochs=10,\n",
        "      validation_data=validation_generator,\n",
        "      )"
      ],
      "execution_count": null,
      "outputs": [
        {
          "output_type": "error",
          "ename": "TypeError",
          "evalue": "ignored",
          "traceback": [
            "\u001b[0;31m---------------------------------------------------------------------------\u001b[0m",
            "\u001b[0;31mTypeError\u001b[0m                                 Traceback (most recent call last)",
            "\u001b[0;32m<ipython-input-31-56ae66feda52>\u001b[0m in \u001b[0;36m<module>\u001b[0;34m()\u001b[0m\n\u001b[1;32m     14\u001b[0m     \u001b[0mverbose\u001b[0m\u001b[0;34m=\u001b[0m\u001b[0;36m1\u001b[0m\u001b[0;34m,\u001b[0m\u001b[0;34m\u001b[0m\u001b[0;34m\u001b[0m\u001b[0m\n\u001b[1;32m     15\u001b[0m     save_best_only=False)\n\u001b[0;32m---> 16\u001b[0;31m \u001b[0mtf\u001b[0m\u001b[0;34m.\u001b[0m\u001b[0mkeras\u001b[0m\u001b[0;34m.\u001b[0m\u001b[0mcallbacks\u001b[0m\u001b[0;34m.\u001b[0m\u001b[0mModelCheckpoint\u001b[0m\u001b[0;34m(\u001b[0m\u001b[0;34m)\u001b[0m\u001b[0;34m\u001b[0m\u001b[0;34m\u001b[0m\u001b[0m\n\u001b[0m\u001b[1;32m     17\u001b[0m \u001b[0mmodel\u001b[0m\u001b[0;34m.\u001b[0m\u001b[0mcompile\u001b[0m\u001b[0;34m(\u001b[0m\u001b[0moptimizer\u001b[0m\u001b[0;34m=\u001b[0m \u001b[0mopt\u001b[0m\u001b[0;34m,\u001b[0m \u001b[0mloss\u001b[0m \u001b[0;34m=\u001b[0m \u001b[0;34m'binary_crossentropy'\u001b[0m\u001b[0;34m,\u001b[0m \u001b[0mmetrics\u001b[0m\u001b[0;34m=\u001b[0m\u001b[0;34m[\u001b[0m\u001b[0;34m'acc'\u001b[0m\u001b[0;34m]\u001b[0m\u001b[0;34m)\u001b[0m\u001b[0;34m\u001b[0m\u001b[0;34m\u001b[0m\u001b[0m\n\u001b[1;32m     18\u001b[0m \u001b[0;34m\u001b[0m\u001b[0m\n",
            "\u001b[0;31mTypeError\u001b[0m: __init__() missing 1 required positional argument: 'filepath'"
          ]
        }
      ]
    },
    {
      "cell_type": "code",
      "metadata": {
        "colab": {
          "base_uri": "https://localhost:8080/"
        },
        "id": "XQ4rg2KLhVu6",
        "outputId": "5dfef4cc-3ce0-44d9-f03a-2db777eee529"
      },
      "source": [
        "model_f.save('/content/drive/MyDrive/models/model_f_covid')"
      ],
      "execution_count": null,
      "outputs": [
        {
          "output_type": "stream",
          "text": [
            "WARNING:absl:Found untraced functions such as flatten_4_layer_call_and_return_conditional_losses, flatten_4_layer_call_fn, dense_8_layer_call_and_return_conditional_losses, dense_8_layer_call_fn, dense_9_layer_call_and_return_conditional_losses while saving (showing 5 of 15). These functions will not be directly callable after loading.\n",
            "/usr/local/lib/python3.7/dist-packages/tensorflow/python/keras/utils/generic_utils.py:497: CustomMaskWarning: Custom mask layers require a config and must override get_config. When loading, the custom mask layer must be passed to the custom_objects argument.\n",
            "  category=CustomMaskWarning)\n"
          ],
          "name": "stderr"
        },
        {
          "output_type": "stream",
          "text": [
            "INFO:tensorflow:Assets written to: /content/drive/MyDrive/models/model_f_covid/assets\n"
          ],
          "name": "stdout"
        },
        {
          "output_type": "stream",
          "text": [
            "INFO:tensorflow:Assets written to: /content/drive/MyDrive/models/model_f_covid/assets\n"
          ],
          "name": "stderr"
        }
      ]
    },
    {
      "cell_type": "code",
      "metadata": {
        "id": "BBvVfJbziXmg"
      },
      "source": [
        "converter = tf.lite.TFLiteConverter.from_saved_model(\"/content/drive/MyDrive/models/model_f_covid\") # path to the SavedModel directory\n",
        "converter.allow_custom_ops = True\n",
        "converter.optimizations = [tf.lite.Optimize.OPTIMIZE_FOR_SIZE]\n",
        "converter.target_spec.supported_ops=[tf.lite.OpsSet.TFLITE_BUILTINS]\n",
        "tflite_model = converter.convert()\n",
        "\n",
        "# Save the model.\n",
        "with open(\"/content/drive/MyDrive/models/mod_cov.tflite\", 'wb') as f:\n",
        "  f.write(tflite_model)"
      ],
      "execution_count": null,
      "outputs": []
    },
    {
      "cell_type": "code",
      "metadata": {
        "colab": {
          "background_save": true
        },
        "id": "rV8mWgdachFG"
      },
      "source": [
        "model_q = keras.models.load_model('/content/drive/MyDrive/models/model_quant.tflite')"
      ],
      "execution_count": null,
      "outputs": []
    },
    {
      "cell_type": "code",
      "metadata": {
        "id": "seb7jqCefk-7"
      },
      "source": [
        "converter = tf.lite.TFLiteConverter.from_saved_model(\"/content/drive/MyDrive/models/model_f_covid\") # path to the SavedModel directory"
      ],
      "execution_count": null,
      "outputs": []
    },
    {
      "cell_type": "code",
      "metadata": {
        "id": "X__yi_M9zYZs"
      },
      "source": [
        "converter.optimizations=[tf.lite.Optimize.OPTIMIZE_FOR_SIZE]\n",
        "quantt_model=converter.convert()"
      ],
      "execution_count": null,
      "outputs": []
    },
    {
      "cell_type": "markdown",
      "metadata": {
        "id": "q9uUTRemaWCn"
      },
      "source": [
        "TRYING TO REDO "
      ]
    },
    {
      "cell_type": "code",
      "metadata": {
        "id": "Zvv2Bei8abPX"
      },
      "source": [
        "modell = keras.models.load_model('/content/drive/MyDrive/models/model_f_covid')"
      ],
      "execution_count": null,
      "outputs": []
    },
    {
      "cell_type": "code",
      "metadata": {
        "colab": {
          "base_uri": "https://localhost:8080/"
        },
        "id": "EE-AtRVst-e0",
        "outputId": "e6f0a624-085d-4cf3-c975-9a15a5f8fe89"
      },
      "source": [
        "# Measure accuracy and loss after training\n",
        "BATCH_SIZE=16\n",
        "compute_steps_per_epoch = lambda x: int(math.ceil(1. * x / BATCH_SIZE))\n",
        "\n",
        "steps_per_epoch = compute_steps_per_epoch(601)\n",
        "\n",
        "final_loss, final_accuracy = modell.evaluate(validation_generator, steps = steps_per_epoch)\n",
        "print(\"Final loss: {:.2f}\".format(final_loss))\n",
        "print(\"Final accuracy: {:.2f}%\".format(final_accuracy * 100))"
      ],
      "execution_count": null,
      "outputs": [
        {
          "output_type": "stream",
          "text": [
            " 3/38 [=>............................] - ETA: 12s - loss: 7.1484e-05 - acc: 1.0000WARNING:tensorflow:Your input ran out of data; interrupting training. Make sure that your dataset or generator can generate at least `steps_per_epoch * epochs` batches (in this case, 38 batches). You may need to use the repeat() function when building your dataset.\n",
            "38/38 [==============================] - 32s 20ms/step - loss: 7.1484e-05 - acc: 1.0000\n",
            "Final loss: 0.00\n",
            "Final accuracy: 100.00%\n"
          ],
          "name": "stdout"
        }
      ]
    },
    {
      "cell_type": "code",
      "metadata": {
        "id": "BjrusdKogTl-",
        "colab": {
          "base_uri": "https://localhost:8080/"
        },
        "outputId": "3210970e-56d6-4970-b4df-9023ada6454a"
      },
      "source": [
        "modell.evaluate(validation_generator)"
      ],
      "execution_count": null,
      "outputs": [
        {
          "output_type": "stream",
          "text": [
            "3/3 [==============================] - 32s 348ms/step - loss: 2.3842e-07 - acc: 1.0000\n"
          ],
          "name": "stdout"
        },
        {
          "output_type": "execute_result",
          "data": {
            "text/plain": [
              "[2.3841946017455484e-07, 1.0]"
            ]
          },
          "metadata": {
            "tags": []
          },
          "execution_count": 17
        }
      ]
    },
    {
      "cell_type": "code",
      "metadata": {
        "id": "p2Xn7ZFRq7W6"
      },
      "source": [
        "from PIL import Image\n",
        "import numpy as np\n",
        "from skimage import transform\n",
        "def load(filename):\n",
        "   np_image = Image.open(filename)\n",
        "   np_image = np.array(np_image).astype('float32')/255\n",
        "   np_image = transform.resize(np_image, (224, 224, 3))\n",
        "   np_image = np.expand_dims(np_image, axis=0)\n",
        "   return np_image"
      ],
      "execution_count": null,
      "outputs": []
    },
    {
      "cell_type": "code",
      "metadata": {
        "colab": {
          "base_uri": "https://localhost:8080/"
        },
        "id": "BN23HeSgr-Ur",
        "outputId": "a7568916-41b8-49d9-a039-978be6dcd84f"
      },
      "source": [
        " image = load('/content/datasets/datasets/test/positive/41591_2020_819_Fig1_HTML.webp-day10(1).png')\n",
        " modell.predict(image)"
      ],
      "execution_count": null,
      "outputs": [
        {
          "output_type": "execute_result",
          "data": {
            "text/plain": [
              "array([[0.]], dtype=float32)"
            ]
          },
          "metadata": {
            "tags": []
          },
          "execution_count": 27
        }
      ]
    },
    {
      "cell_type": "code",
      "metadata": {
        "colab": {
          "base_uri": "https://localhost:8080/"
        },
        "id": "uAT4mjkH0ZA6",
        "outputId": "3d627bcb-1e8a-48cc-ea55-fd0f6a391022"
      },
      "source": [
        "#  Negative 1\n",
        "image = load('/content/datasets/datasets/test/negative/00001385_000.png')\n",
        "modell.predict(image)"
      ],
      "execution_count": null,
      "outputs": [
        {
          "output_type": "execute_result",
          "data": {
            "text/plain": [
              "array([[3.2174055e-15]], dtype=float32)"
            ]
          },
          "metadata": {
            "tags": []
          },
          "execution_count": 29
        }
      ]
    },
    {
      "cell_type": "code",
      "metadata": {
        "colab": {
          "base_uri": "https://localhost:8080/"
        },
        "id": "VfCJiZtM0el2",
        "outputId": "1136be5b-ca03-4098-8103-3ed8447f69f8"
      },
      "source": [
        "#  Negative 2\n",
        "image = load('/content/datasets/datasets/test/negative/00001616_011.png')\n",
        "modell.predict(image)"
      ],
      "execution_count": null,
      "outputs": [
        {
          "output_type": "execute_result",
          "data": {
            "text/plain": [
              "array([[6.5016024e-35]], dtype=float32)"
            ]
          },
          "metadata": {
            "tags": []
          },
          "execution_count": 30
        }
      ]
    },
    {
      "cell_type": "code",
      "metadata": {
        "colab": {
          "base_uri": "https://localhost:8080/"
        },
        "id": "hshMZkxL02YY",
        "outputId": "b26f20f7-9c4a-461e-c5c3-a50e926f595e"
      },
      "source": [
        "#  Positive 1\n",
        "image = load('/content/datasets/datasets/test/positive/9C34AF49-E589-44D5-92D3-168B3B04E4A6.jpeg')\n",
        "modell.predict(image)"
      ],
      "execution_count": null,
      "outputs": [
        {
          "output_type": "execute_result",
          "data": {
            "text/plain": [
              "array([[0.99937075]], dtype=float32)"
            ]
          },
          "metadata": {
            "tags": []
          },
          "execution_count": 31
        }
      ]
    },
    {
      "cell_type": "code",
      "metadata": {
        "colab": {
          "base_uri": "https://localhost:8080/"
        },
        "id": "oiEgWVzP07BT",
        "outputId": "a1dc1840-47f6-43d8-809d-c082e0f316e9"
      },
      "source": [
        "#  Positive 2\n",
        "image = load('/content/datasets/datasets/test/positive/ciaa199.pdf-001-c (1).png')\n",
        "modell.predict(image)"
      ],
      "execution_count": null,
      "outputs": [
        {
          "output_type": "execute_result",
          "data": {
            "text/plain": [
              "array([[0.]], dtype=float32)"
            ]
          },
          "metadata": {
            "tags": []
          },
          "execution_count": 33
        }
      ]
    },
    {
      "cell_type": "code",
      "metadata": {
        "colab": {
          "base_uri": "https://localhost:8080/"
        },
        "id": "2q3OXr5_1nSe",
        "outputId": "0221a1f8-1ae8-4750-a1bc-22b39f462040"
      },
      "source": [
        "for i in range(12):\n",
        "  src = os.path.join(original_dataset_dir_positive,positive_image[i])\n",
        "  imag = load(src)\n",
        "  thing = modell.predict(imag)\n",
        "  print(thing)"
      ],
      "execution_count": null,
      "outputs": [
        {
          "output_type": "stream",
          "text": [
            "[[0.925745]]\n",
            "[[0.9988502]]\n",
            "[[0.9999908]]\n",
            "[[0.65836686]]\n",
            "[[0.9991658]]\n",
            "[[1.]]\n",
            "[[1.]]\n",
            "[[0.9997383]]\n",
            "[[0.99937075]]\n",
            "[[0.9999962]]\n",
            "[[0.]]\n",
            "[[0.99591583]]\n"
          ],
          "name": "stdout"
        }
      ]
    },
    {
      "cell_type": "code",
      "metadata": {
        "colab": {
          "base_uri": "https://localhost:8080/"
        },
        "id": "J5Pgs4PL2iPp",
        "outputId": "9736dbb8-8ecf-4b06-858f-feb62ff29389"
      },
      "source": [
        "for i in range(12):\n",
        "  src = os.path.join(original_dataset_dir_negative,negative_image[i])\n",
        "  imag = load(src)\n",
        "  thing = modell.predict(imag)\n",
        "  print(thing)"
      ],
      "execution_count": null,
      "outputs": [
        {
          "output_type": "stream",
          "text": [
            "[[1.6932277e-18]]\n",
            "[[1.7745297e-16]]\n",
            "[[8.244826e-28]]\n",
            "[[8.006639e-18]]\n",
            "[[3.3953317e-21]]\n",
            "[[1.2146908e-28]]\n",
            "[[1.4539094e-15]]\n",
            "[[3.6108223e-15]]\n",
            "[[4.404583e-14]]\n",
            "[[1.4191067e-14]]\n",
            "[[4.5283073e-17]]\n",
            "[[1.2344638e-29]]\n"
          ],
          "name": "stdout"
        }
      ]
    },
    {
      "cell_type": "code",
      "metadata": {
        "id": "22D5lVuKb-6K"
      },
      "source": [
        "converter = tf.lite.TFLiteConverter.from_saved_model(\"/content/drive/MyDrive/models/model_f_covid\") # path to the SavedModel directory"
      ],
      "execution_count": null,
      "outputs": []
    },
    {
      "cell_type": "code",
      "metadata": {
        "id": "Yz-5Jgf8cICh"
      },
      "source": [
        "converter.optimizations=[tf.lite.Optimize.OPTIMIZE_FOR_SIZE]\n",
        "tflite_model=converter.convert()\n",
        "with open('/content/drive/MyDrive/models/cov_one.tflite' ,\"wb\") as f:\n",
        "  f.write(tflite_model)"
      ],
      "execution_count": null,
      "outputs": []
    },
    {
      "cell_type": "code",
      "metadata": {
        "id": "BRyI7DwifKYt"
      },
      "source": [
        "interpreter = tf.lite.Interpreter(\"/content/drive/MyDrive/models/cov_one.tflite\")\n",
        "interpreter.allocate_tensors()\n",
        "input_details = interpreter.get_input_details()\n",
        "output_details = interpreter.get_output_details()"
      ],
      "execution_count": null,
      "outputs": []
    },
    {
      "cell_type": "code",
      "metadata": {
        "colab": {
          "base_uri": "https://localhost:8080/"
        },
        "id": "ipXn_VgkfmqU",
        "outputId": "42fc8970-f122-4ab7-af13-724d9766774d"
      },
      "source": [
        "model = tf.keras.models.load_model('/content/drive/MyDrive/models/model_f_covid')\n",
        "input_shape = input_details[0]['shape']\n",
        "inputs, outputs = [], []\n",
        "for i in range(8):\n",
        "  src = os.path.join(original_dataset_dir_positive,positive_image[i])\n",
        "  input_data = np.array(np.random.random_sample(input_shape), dtype=np.float32)\n",
        "  interpreter.set_tensor(input_details[0]['index'], input_data)\n",
        "  interpreter.invoke()\n",
        "  tflite_results = interpreter.get_tensor(output_details[0]['index'])\n",
        "  # print('Output: ')\n",
        "  print(tflite_results)\n",
        "  # print('')\n",
        "   # Test the TensorFlow model on random input data.\n",
        "  # tf_results = model(tf.constant(input_data))\n",
        "  # output_data = np.array(tf_results)\n",
        "  \n",
        "  # inputs.append(input_data[0][0])\n",
        "  # outputs.append(output_data[0][0])"
      ],
      "execution_count": null,
      "outputs": [
        {
          "output_type": "stream",
          "text": [
            "[[1.]]\n",
            "[[1.]]\n",
            "[[1.]]\n",
            "[[1.]]\n",
            "[[1.]]\n",
            "[[1.]]\n",
            "[[1.]]\n",
            "[[1.]]\n"
          ],
          "name": "stdout"
        }
      ]
    }
  ]
}